{
 "cells": [
  {
   "cell_type": "markdown",
   "metadata": {},
   "source": [
    "# NSF Computer and Information Science and Engineering (CISE) \n",
    "\n",
    "- `05050000`: Division of Computer and Network Systems (CNS)\n",
    "- `05010000`: Division of Computing and Communication Foundations (CCF)\n",
    "- `05020000`: Division of Information and Intelligent Systems (IIS)\n",
    "- `05090000`: Office of Advanced Cyberinfrastructure (OAC)"
   ]
  },
  {
   "cell_type": "code",
   "execution_count": 23,
   "metadata": {},
   "outputs": [],
   "source": [
    "import os,sys,json\n",
    "import core.coworknet, core.nsf_utils\n",
    "import matplotlib.pyplot as plt\n",
    "import matplotlib.cm as cm\n",
    "import numpy as np\n",
    "import networkx as nx\n",
    "import seaborn as sns\n",
    "import pandas as pd\n",
    "from datetime import datetime\n",
    "from collections import Counter"
   ]
  },
  {
   "cell_type": "code",
   "execution_count": 24,
   "metadata": {},
   "outputs": [],
   "source": [
    "grant_type = [\"Standard Grant\", \"Continuing grant\"] # draw only these types\n",
    "div_type = {\n",
    "    \"05050000\": \"Division of Computer and Network Systems (CNS)\",\n",
    "    \"05010000\": \"Division of Computing and Communication Foundations (CCF)\",\n",
    "    \"05020000\": \"Division of Information and Intelligent Systems (IIS)\",\n",
    "    \"05090000\": \"Office of Advanced Cyberinfrastructure (OAC)\"\n",
    "}"
   ]
  },
  {
   "cell_type": "code",
   "execution_count": 25,
   "metadata": {},
   "outputs": [],
   "source": [
    "def histogram_num_pis(data, years, orgcodes):\n",
    "    plt.title(\"[NSF {}-{}] histogram - number of PIs\".format(years[0], years[-1]))\n",
    "    plt.ylabel(\"Number of grants\")\n",
    "    plt.xlabel(\"Number of PIs\")\n",
    "    pis = [d[\"num_pis\"] for d in data.values() if d[\"org\"] in orgcodes]\n",
    "    counter_pis = Counter(pis)\n",
    "    print(counter_pis)\n",
    "    x = range(1, 10)\n",
    "    y = [counter_pis[i] if i in counter_pis else 0 for i in x]\n",
    "    plt.bar(x, y)"
   ]
  },
  {
   "cell_type": "code",
   "execution_count": 26,
   "metadata": {},
   "outputs": [
    {
     "name": "stdout",
     "output_type": "stream",
     "text": [
      "[2004]\n",
      "Total number of grants 10212\n",
      "Division of Computer and Network Systems (CNS) 405\n",
      "Division of Computing and Communication Foundations (CCF) 332\n",
      "Division of Information and Intelligent Systems (IIS) 362\n",
      "Office of Advanced Cyberinfrastructure (OAC) 53\n"
     ]
    }
   ],
   "source": [
    "data = {}\n",
    "years = [2004]\n",
    "for y in years:\n",
    "    data.update(core.nsf_utils.load_numpub_data(y))\n",
    "data = {k:v for k, v in data.items() if v[\"type\"] in grant_type}\n",
    "for y in years:\n",
    "    print(\"[{}]\".format(y))\n",
    "    print(\"Total number of grants\", len([v for v in data.values() if v[\"year\"] == y]))\n",
    "    for code, desc in div_type.items():\n",
    "        print(desc, len([v for v in data.values() if v[\"org\"] == code and v[\"year\"] == y]))"
   ]
  },
  {
   "cell_type": "code",
   "execution_count": 27,
   "metadata": {},
   "outputs": [
    {
     "name": "stdout",
     "output_type": "stream",
     "text": [
      "Counter({1: 633, 2: 243, 3: 123, 5: 83, 4: 61, 6: 4, 0: 2, 7: 2, 8: 1})\n"
     ]
    },
    {
     "data": {
      "image/png": "[encoded data removed]",
      "text/plain": [
       "<Figure size 432x288 with 1 Axes>"
      ]
     },
     "metadata": {
      "needs_background": "light"
     },
     "output_type": "display_data"
    }
   ],
   "source": [
    "histogram_num_pis(data, years, div_type.keys())"
   ]
  },
  {
   "cell_type": "code",
   "execution_count": 28,
   "metadata": {},
   "outputs": [
    {
     "name": "stdout",
     "output_type": "stream",
     "text": [
      "['0401049', '0403020', '0403130', '0403590', '0404001', '0404193', '0404297', '0404440', '0406305', '0406345', '0406384', '0410203', '0410246', '0410409', '0410524', '0410553', '0410771', '0410790', '0410918', '0410937', '0411127', '0411152', '0411307', '0412029', '0412858', '0412884', '0412894', '0412930', '0412965', '0413012', '0413078', '0413085', '0413138', '0413196', '0413214', '0413227', '0413251', '0413284', '0413321', '0413328', '0413709', '0414380', '0414409', '0414482', '0414557', '0414567', '0414630', '0414710', '0414762', '0414763', '0414791', '0414815', '0414976', '0414981', '0415016', '0415021', '0415101', '0415175', '0415195', '0415257', '0415865', '0415923', '0416364', '0418165', '0420337', '0420434', '0420505', '0420866', '0420873', '0420906', '0420985', '0423014', '0423039', '0423070', '0423253', '0423305', '0423546', '0423584', '0424601', '0426021', '0426557', '0426627', '0426674', '0426879', '0426904', '0427260', '0427385', '0427695', '0428427', '0429154', '0429211', '0429228', '0429364', '0429365', '0429454', '0429469', '0429481', '0429535', '0429591', '0429631', '0429640', '0429653', '0429711', '0429743', '0429766', '0429781', '0429836', '0429930', '0429948', '0430061', '0430063', '0430077', '0430166', '0430228', '0430258', '0430271', '0430303', '0430304', '0430318', '0430402', '0430474', '0430477', '0430487', '0430510', '0430593', '0430654', '0430742', '0430781', '0430822', '0430848', '0430849', '0430853', '0430885', '0430892', '0430915', '0430954', '0430994', '0431024', '0431030', '0431031', '0431051', '0431059', '0431069', '0431088', '0431128', '0431150', '0431166', '0431177', '0432009', '0432038', '0432063', '0432098', '0432116', '0432186', '0432297', '0432881', '0433392', '0433454', '0434078', '0434120', '0434211', '0434410', '0434512', '0434533', '0434816', '0434824', '0434996', '0435023', '0435043', '0435060', '0435065', '0435087', '0435111', '0435157', '0435247', '0435272', '0435292', '0435303', '0435381', '0435429', '0435480', '0435505', '0435517', '0435531', '0437603', '0437810', '0438263', '0438314', '0438372', '0438803', '0438848', '0438871', '0438923', '0438948', '0439034', '0439061', '0440021', '0440133', '0440443', '0441172', '0441999', '0442128', '0443162', '0443257', '0443591', '0444412', '0444417', '0444486', '0447079', '0447973', '0449573', '0450112', '0451097', '0451431', '0452180', '0452235', '0453456', '0453459', '0453463', '0453491', '0453498', '0453545', '0453552', '0453604', '0454018', '0454056', '0454062', '0454130', '0454174', '0454189', '0454195', '0454233', '0454381', '0454416', '0454425', '0454437', '0455361', '0455997', '0455998', '0456001', '0456017', '0456026', '0456129']\n"
     ]
    }
   ],
   "source": [
    "grant_list = [k for k, d in data.items() if d[\"org\"] in div_type.keys() and d[\"num_pis\"] == 2]\n",
    "print(grant_list)"
   ]
  },
  {
   "cell_type": "code",
   "execution_count": 29,
   "metadata": {},
   "outputs": [
    {
     "name": "stdout",
     "output_type": "stream",
     "text": [
      "243 grants with 2 PIs\n"
     ]
    }
   ],
   "source": [
    "grant_list = [k for k, d in data.items() if d[\"org\"] in div_type.keys() and d[\"num_pis\"] == 2]\n",
    "print(len(grant_list), \"grants with 2 PIs\")"
   ]
  },
  {
   "cell_type": "code",
   "execution_count": 30,
   "metadata": {},
   "outputs": [
    {
     "name": "stdout",
     "output_type": "stream",
     "text": [
      "0404297 union=2, max_group=2, numpub=3 6 5\n",
      "0410203 union=2, max_group=2, numpub=6 6 1\n",
      "0410246 union=2, max_group=2, numpub=13 16 4\n",
      "0410409 union=1, max_group=1, numpub=2 2 0\n",
      "0410553 union=2, max_group=2, numpub=7 8 3\n",
      "0410771 union=2, max_group=2, numpub=9 15 9\n",
      "0410918 union=2, max_group=2, numpub=8 18 12\n",
      "0410937 union=2, max_group=2, numpub=19 20 7\n",
      "0411127 union=2, max_group=2, numpub=1 41 41\n",
      "0411152 union=0, max_group=0, numpub=1 1 0\n",
      "0411307 union=2, max_group=2, numpub=6 33 29\n",
      "0412029 union=1, max_group=1, numpub=1 1 0\n",
      "0412884 union=1, max_group=1, numpub=8 8 0\n",
      "0412894 union=1, max_group=1, numpub=7 7 0\n",
      "0412930 union=2, max_group=2, numpub=12 12 1\n",
      "0413012 union=2, max_group=2, numpub=2 5 4\n",
      "0413078 union=1, max_group=1, numpub=3 3 0\n",
      "0413085 union=2, max_group=2, numpub=4 16 15\n",
      "0413138 union=2, max_group=2, numpub=10 10 1\n",
      "0413196 union=1, max_group=1, numpub=23 23 0\n",
      "0413214 union=2, max_group=1, numpub=16 16 0\n",
      "0413227 union=2, max_group=2, numpub=4 13 12\n",
      "0413251 union=2, max_group=2, numpub=1 5 5\n",
      "0413284 union=1, max_group=1, numpub=3 3 0\n",
      "0413321 union=2, max_group=2, numpub=2 4 3\n",
      "0414380 union=2, max_group=2, numpub=9 70 70\n",
      "0414482 union=2, max_group=2, numpub=5 9 8\n",
      "0414557 union=2, max_group=1, numpub=5 5 0\n",
      "0414567 union=2, max_group=2, numpub=18 42 38\n",
      "0414630 union=2, max_group=2, numpub=6 13 10\n",
      "0414710 union=2, max_group=2, numpub=15 17 4\n",
      "0414762 union=1, max_group=1, numpub=4 4 0\n",
      "0414763 union=2, max_group=2, numpub=9 9 1\n",
      "0414791 union=2, max_group=2, numpub=10 10 2\n",
      "0414815 union=0, max_group=0, numpub=3 3 0\n",
      "0414976 union=2, max_group=2, numpub=2 12 11\n",
      "0414981 union=2, max_group=2, numpub=18 18 4\n",
      "0415021 union=1, max_group=1, numpub=2 2 0\n",
      "0415101 union=1, max_group=1, numpub=1 1 0\n",
      "0415175 union=2, max_group=1, numpub=12 12 0\n",
      "0415195 union=2, max_group=2, numpub=21 49 29\n",
      "0415257 union=2, max_group=2, numpub=10 23 19\n",
      "0415865 union=2, max_group=2, numpub=8 9 2\n",
      "0416364 union=1, max_group=1, numpub=2 2 0\n",
      "0418165 union=2, max_group=2, numpub=3 3 1\n",
      "0420434 union=1, max_group=1, numpub=9 9 0\n",
      "0420866 union=1, max_group=1, numpub=8 8 0\n",
      "0423039 union=2, max_group=2, numpub=1 20 20\n",
      "0423253 union=2, max_group=2, numpub=21 21 1\n",
      "0423546 union=2, max_group=1, numpub=6 6 0\n",
      "0426557 union=2, max_group=2, numpub=2 4 3\n",
      "0426627 union=2, max_group=2, numpub=12 19 8\n",
      "0426674 union=2, max_group=2, numpub=13 20 8\n",
      "0426904 union=0, max_group=0, numpub=3 3 0\n",
      "0427260 union=2, max_group=1, numpub=13 13 0\n",
      "0427385 union=1, max_group=1, numpub=8 8 0\n",
      "0427695 union=2, max_group=2, numpub=17 31 23\n",
      "0428427 union=2, max_group=2, numpub=20 21 2\n",
      "0429154 union=2, max_group=2, numpub=2 6 6\n",
      "0429211 union=1, max_group=1, numpub=11 11 0\n",
      "0429228 union=2, max_group=2, numpub=3 6 6\n",
      "0429364 union=2, max_group=2, numpub=11 44 37\n",
      "0429365 union=1, max_group=1, numpub=1 1 0\n",
      "0429481 union=2, max_group=1, numpub=9 9 0\n",
      "0429535 union=2, max_group=1, numpub=13 13 0\n",
      "0429591 union=1, max_group=1, numpub=36 36 0\n",
      "0429631 union=3, max_group=2, numpub=13 36 33\n",
      "0429640 union=2, max_group=2, numpub=5 5 2\n",
      "0429653 union=1, max_group=1, numpub=21 21 0\n",
      "0429711 union=2, max_group=2, numpub=5 9 5\n",
      "0429766 union=2, max_group=2, numpub=7 111 111\n",
      "0429836 union=2, max_group=2, numpub=2 7 6\n",
      "0429930 union=2, max_group=2, numpub=19 25 14\n",
      "0429948 union=2, max_group=2, numpub=5 9 7\n",
      "0430061 union=2, max_group=1, numpub=8 8 0\n",
      "0430063 union=1, max_group=1, numpub=8 8 0\n",
      "0430077 union=1, max_group=1, numpub=4 4 0\n",
      "0430166 union=1, max_group=1, numpub=14 14 0\n",
      "0430228 union=1, max_group=1, numpub=3 3 0\n",
      "0430258 union=1, max_group=1, numpub=3 3 0\n",
      "0430271 union=2, max_group=2, numpub=4 8 5\n",
      "0430303 union=2, max_group=2, numpub=7 87 87\n",
      "0430304 union=2, max_group=2, numpub=5 39 37\n",
      "0430318 union=2, max_group=2, numpub=3 14 14\n",
      "0430402 union=2, max_group=2, numpub=18 66 50\n",
      "0430474 union=1, max_group=1, numpub=5 5 0\n",
      "0430477 union=2, max_group=2, numpub=7 33 30\n",
      "0430487 union=2, max_group=2, numpub=31 31 4\n",
      "0430510 union=2, max_group=2, numpub=8 43 38\n",
      "0430654 union=1, max_group=1, numpub=15 15 0\n",
      "0430742 union=1, max_group=1, numpub=5 5 0\n",
      "0430781 union=2, max_group=2, numpub=29 29 3\n",
      "0430848 union=1, max_group=1, numpub=9 9 0\n",
      "0430849 union=2, max_group=2, numpub=5 44 40\n",
      "0430853 union=1, max_group=1, numpub=2 2 0\n",
      "0430885 union=2, max_group=2, numpub=22 46 30\n",
      "0430915 union=2, max_group=1, numpub=12 12 0\n",
      "0430954 union=2, max_group=1, numpub=14 14 0\n",
      "0430994 union=2, max_group=2, numpub=8 30 26\n",
      "0431024 union=2, max_group=2, numpub=7 54 52\n",
      "0431030 union=2, max_group=2, numpub=61 144 94\n",
      "0431031 union=2, max_group=2, numpub=37 44 9\n",
      "0431059 union=2, max_group=2, numpub=18 53 43\n",
      "0431069 union=1, max_group=1, numpub=7 7 0\n",
      "0431088 union=2, max_group=2, numpub=25 35 12\n",
      "0431150 union=2, max_group=2, numpub=50 50 2\n",
      "0431166 union=2, max_group=2, numpub=2 18 18\n",
      "0431177 union=2, max_group=1, numpub=13 13 0\n",
      "0432009 union=2, max_group=1, numpub=18 18 0\n",
      "0432063 union=2, max_group=2, numpub=5 6 3\n",
      "0432098 union=2, max_group=2, numpub=20 32 14\n",
      "0432186 union=1, max_group=1, numpub=2 2 0\n",
      "0432881 union=0, max_group=0, numpub=1 1 0\n",
      "0434410 union=2, max_group=2, numpub=8 10 4\n",
      "0434533 union=1, max_group=1, numpub=10 10 0\n",
      "0434996 union=2, max_group=2, numpub=4 11 11\n",
      "0435023 union=1, max_group=1, numpub=4 4 0\n",
      "0435060 union=1, max_group=1, numpub=3 3 0\n",
      "0435065 union=2, max_group=2, numpub=17 51 37\n",
      "0435111 union=2, max_group=2, numpub=20 21 3\n",
      "0435157 union=1, max_group=1, numpub=2 2 0\n",
      "0435247 union=2, max_group=2, numpub=13 19 10\n",
      "0435272 union=2, max_group=2, numpub=1 36 36\n",
      "0435303 union=2, max_group=2, numpub=14 21 13\n",
      "0435381 union=1, max_group=1, numpub=13 13 0\n",
      "0435429 union=1, max_group=1, numpub=6 6 0\n",
      "0435505 union=2, max_group=2, numpub=15 26 12\n",
      "0435517 union=2, max_group=2, numpub=3 24 23\n",
      "0435531 union=1, max_group=1, numpub=8 8 0\n",
      "0437810 union=2, max_group=2, numpub=9 28 21\n",
      "0438263 union=2, max_group=2, numpub=20 34 27\n",
      "0438314 union=1, max_group=1, numpub=8 8 0\n",
      "0438923 union=1, max_group=1, numpub=4 4 0\n",
      "0444412 union=1, max_group=1, numpub=2 2 0\n",
      "0444417 union=2, max_group=2, numpub=4 5 2\n",
      "0444486 union=2, max_group=1, numpub=13 13 0\n",
      "0452235 union=0, max_group=0, numpub=4 4 0\n",
      "0453456 union=2, max_group=2, numpub=8 96 94\n",
      "0453459 union=2, max_group=2, numpub=8 24 21\n",
      "0453463 union=2, max_group=2, numpub=13 15 8\n",
      "0453545 union=0, max_group=0, numpub=1 1 0\n",
      "0454062 union=2, max_group=2, numpub=3 20 19\n",
      "0454233 union=2, max_group=2, numpub=19 45 40\n",
      "0454381 union=1, max_group=1, numpub=6 6 0\n",
      "0454416 union=2, max_group=2, numpub=2 11 10\n",
      "0454425 union=1, max_group=1, numpub=28 28 0\n",
      "0455998 union=2, max_group=2, numpub=3 30 29\n",
      "0456001 union=2, max_group=1, numpub=17 17 0\n",
      "95 (39.09%) grants have no publication\n",
      "42 (17.28%) grants have only one working PI\n",
      "14 (5.76%) grants have two PIs working separately\n",
      "85 (34.98%) grants have two PIs collaborated\n",
      "7 (2.88%) grants are unknown\n"
     ]
    }
   ],
   "source": [
    "no_publications = []\n",
    "no_edges = []\n",
    "other = []\n",
    "only_one_pi = []\n",
    "two_separate = []\n",
    "two_cowork = []\n",
    "for pid in grant_list:\n",
    "    table, ts, te, G_all = core.coworknet.get_grant_coworknet_pis(pid)\n",
    "    if len(table) == 0:\n",
    "        no_publications.append(pid)\n",
    "        continue\n",
    "    pis = [a for a in G_all.nodes() if \"pi\" in G_all.nodes[a] and G_all.nodes[a] [\"pi\"]]\n",
    "    G = G_all.subgraph(pis)\n",
    "        \n",
    "    working_pis = []\n",
    "    reported_pub_number = 0\n",
    "    for k, v in table.items():\n",
    "        if v[\"type\"]: # only count publicatoins in-grant\n",
    "            reported_pub_number += 1\n",
    "            working_pis.append([a for a, av in v[\"authors\"].items() if av[\"pi\"]])\n",
    "    # print(pid, working_pis)\n",
    "    pi_counter = [set([n[0]+n.split(\" \")[-1] for n in group]) for group in working_pis]\n",
    "    pi_union = set.union(*pi_counter)\n",
    "    pi_max_group = max([len(pg) for pg in pi_counter])\n",
    "#     print(pi_counter, pi_union, pi_max_group)\n",
    "    print(\"{} union={}, max_group={}, numpub={} {} {}\".format(pid, len(pi_union), pi_max_group, reported_pub_number, len(table), len(G.edges)))\n",
    "    if len(pi_union) == 2 and pi_max_group == 2:\n",
    "        two_cowork.append(pid)\n",
    "    elif len(pi_union) == 2:\n",
    "        two_separate.append(pid)\n",
    "    elif len(pi_union) == 1:\n",
    "        only_one_pi.append(pid)\n",
    "    else:\n",
    "        other.append(pid)\n",
    "print(\"{} ({:.2f}%) grants have no publication\".format(len(no_publications), 100*len(no_publications)/len(grant_list)))\n",
    "print(\"{} ({:.2f}%) grants have only one working PI\".format(len(only_one_pi), 100*len(only_one_pi)/len(grant_list)))\n",
    "print(\"{} ({:.2f}%) grants have two PIs working separately\".format(len(two_separate), 100*len(two_separate)/len(grant_list)))\n",
    "print(\"{} ({:.2f}%) grants have two PIs collaborated\".format(len(two_cowork), 100*len(two_cowork)/len(grant_list)))\n",
    "print(\"{} ({:.2f}%) grants are unknown\".format(len(other), 100*len(other)/len(grant_list)))"
   ]
  },
  {
   "cell_type": "code",
   "execution_count": 31,
   "metadata": {},
   "outputs": [
    {
     "name": "stdout",
     "output_type": "stream",
     "text": [
      "86 grants - two PIs collaborated\n",
      "Counter({'000': 157, '111': 38, '010': 20, '110': 14, '011': 14})\n"
     ]
    }
   ],
   "source": [
    "collab_type = {}\n",
    "dict_period = {}\n",
    "dict_teams = {}\n",
    "dict_publications = {}\n",
    "dict_citations = {}\n",
    "dict_timestamps = {}\n",
    "convert_t = lambda t: datetime.strptime(t, \"%Y-%m-%dT%X\")\n",
    "\n",
    "for grant_id in grant_list:\n",
    "    _,ts,te,G_all = core.coworknet.get_grant_coworknet_pis(grant_id)\n",
    "    pis = [a for a in G_all.nodes() if \"pi\" in G_all.nodes[a] and G_all.nodes[a] [\"pi\"]]\n",
    "#     print(pis)\n",
    "    G = G_all.subgraph(pis)\n",
    "#     if len(G.edges) == 0:\n",
    "#         continue\n",
    "        \n",
    "#     print(grant_id)\n",
    "    publications = {\"pre-grant\":0, \"grant\":0, \"post-grant\":0}\n",
    "    citations = {\"pre-grant\":0, \"grant\":0, \"post-grant\":0}\n",
    "    teams = {\"pre-grant\":0, \"grant\":0, \"post-grant\":0}\n",
    "    dates = [convert_t(data[\"date\"]) for _,_,data in G.edges.data()]\n",
    "    for u,v,data in G.edges.data():\n",
    "#         print(data[\"paper\"])\n",
    "        num_coauthor = len([e for e in G_all.edges.data() if e[2][\"paper\"] == data[\"paper\"]])/2\n",
    "#         print(data[\"paper\"], num_coauthor)\n",
    "        if data[\"grant\"] != \"other\" or (ts <= convert_t(data[\"date\"]) and convert_t(data[\"date\"]) <= te):\n",
    "#             print(\"grant\") # reported publications or unreported pubs in the grant period\n",
    "            teams[\"grant\"] += num_coauthor\n",
    "            publications[\"grant\"] += 1\n",
    "            citations[\"grant\"] += data[\"citation\"]\n",
    "        elif convert_t(data[\"date\"]) < ts:\n",
    "#             print(\"pre-grant\") # unreported publications before the grant period\n",
    "            teams[\"pre-grant\"] += num_coauthor\n",
    "            publications[\"pre-grant\"] += 1\n",
    "            citations[\"pre-grant\"] += data[\"citation\"]\n",
    "        elif te < convert_t(data[\"date\"]):\n",
    "#             print(\"post-grant\") # unreported publications after the grant period\n",
    "            teams[\"post-grant\"] += num_coauthor\n",
    "            publications[\"post-grant\"] += 1\n",
    "            citations[\"post-grant\"] += data[\"citation\"]\n",
    "    dict_period[grant_id] = (te-ts).days\n",
    "    dict_teams[grant_id] = teams\n",
    "    dict_publications[grant_id] = publications\n",
    "    dict_citations[grant_id] = citations\n",
    "    dict_timestamps[grant_id] = sorted(dates)\n",
    "#     print(publications, dict_timestamps[grant_id])\n",
    "\n",
    "ctypes = []\n",
    "for gid, v in dict_publications.items():\n",
    "    collab_type[gid] = \"{}{}{}\".format(1 if v[\"pre-grant\"]>0 else 0, 1 if v[\"grant\"]>0 else 0, 1 if v[\"post-grant\"]>0 else 0)\n",
    "    ctypes.append(collab_type[gid])\n",
    "    \n",
    "print(len([k for k in dict_timestamps.keys() if collab_type[k] != \"000\"]), \"grants - two PIs collaborated\")\n",
    "print(Counter(ctypes))"
   ]
  },
  {
   "cell_type": "code",
   "execution_count": 32,
   "metadata": {},
   "outputs": [
    {
     "data": {
      "text/plain": [
       "{'0429631'}"
      ]
     },
     "execution_count": 32,
     "metadata": {},
     "output_type": "execute_result"
    }
   ],
   "source": [
    "set([k for k in dict_timestamps.keys() if collab_type[k] != \"000\"])-set(two_cowork)"
   ]
  },
  {
   "cell_type": "code",
   "execution_count": 33,
   "metadata": {},
   "outputs": [
    {
     "data": {
      "image/png": "[encoded data removed]",
      "text/plain": [
       "<Figure size 432x576 with 1 Axes>"
      ]
     },
     "metadata": {
      "needs_background": "light"
     },
     "output_type": "display_data"
    }
   ],
   "source": [
    "x = [\"grant\"]\n",
    "ctype = [\"010\", \"011\", \"110\", \"111\"]\n",
    "box_plot_data = pd.DataFrame({\n",
    "    \"time\": [time for time in x for k, v in collab_type.items() if v in ctype],\n",
    "    \"grant_period\": [dict_period[k] for k, v in collab_type.items() if v in ctype],\n",
    "    \"avg_team\": [dict_teams[k][time]/dict_publications[k][time] for time in x for k, v in collab_type.items() if v in ctype],\n",
    "    \"publication\": [dict_publications[k][time] for time in x for k, v in collab_type.items() if v in ctype],\n",
    "    \"citation\": [dict_citations[k][time] for time in x for k, v in collab_type.items() if v in ctype],\n",
    "    \"ctype\": [v for time in x for k, v in collab_type.items() if v in ctype]\n",
    "})\n",
    "        \n",
    "# print(box_plot_data.head(5))\n",
    "plt.figure(figsize=(6,8))\n",
    "ax = sns.boxplot(x=\"time\", y=\"publication\", hue=\"ctype\", data=box_plot_data, showmeans=True, hue_order=ctype).set_title(\"Number of publications in grant period\")"
   ]
  },
  {
   "cell_type": "code",
   "execution_count": 34,
   "metadata": {},
   "outputs": [
    {
     "data": {
      "image/png": "[encoded data removed]",
      "text/plain": [
       "<Figure size 432x576 with 1 Axes>"
      ]
     },
     "metadata": {
      "needs_background": "light"
     },
     "output_type": "display_data"
    }
   ],
   "source": [
    "plt.figure(figsize=(6,8))\n",
    "ax = sns.boxplot(x=\"time\", y=\"citation\", hue=\"ctype\", data=box_plot_data, showmeans=True, hue_order=ctype).set_title(\"Number of citation of the papers published in grant period\")"
   ]
  },
  {
   "cell_type": "code",
   "execution_count": 35,
   "metadata": {},
   "outputs": [
    {
     "data": {
      "image/png": "[encoded data removed]",
      "text/plain": [
       "<Figure size 432x576 with 1 Axes>"
      ]
     },
     "metadata": {
      "needs_background": "light"
     },
     "output_type": "display_data"
    }
   ],
   "source": [
    "box_plot_data[\"average_citation\"] = (box_plot_data[\"citation\"]/box_plot_data[\"publication\"]).fillna(0)\n",
    "plt.figure(figsize=(6,8))\n",
    "ax = sns.boxplot(x=\"time\", y=\"average_citation\", hue=\"ctype\", data=box_plot_data, showmeans=True, hue_order=ctype).set_title(\"Average citations/paper published in grant period\")"
   ]
  },
  {
   "cell_type": "code",
   "execution_count": 36,
   "metadata": {},
   "outputs": [
    {
     "data": {
      "image/png": "[encoded data removed]",
      "text/plain": [
       "<Figure size 432x576 with 1 Axes>"
      ]
     },
     "metadata": {
      "needs_background": "light"
     },
     "output_type": "display_data"
    }
   ],
   "source": [
    "plt.figure(figsize=(6,8))\n",
    "ax = sns.boxplot(x=\"time\", y=\"grant_period\", hue=\"ctype\", data=box_plot_data, showmeans=True, hue_order=ctype).set_title(\"Grant period\")"
   ]
  },
  {
   "cell_type": "code",
   "execution_count": 38,
   "metadata": {},
   "outputs": [
    {
     "data": {
      "image/png": "[encoded data removed]",
      "text/plain": [
       "<Figure size 432x576 with 1 Axes>"
      ]
     },
     "metadata": {
      "needs_background": "light"
     },
     "output_type": "display_data"
    }
   ],
   "source": [
    "plt.figure(figsize=(6,8))\n",
    "ax = sns.boxplot(x=\"time\", y=\"avg_team\", hue=\"ctype\", data=box_plot_data, showmeans=True, hue_order=ctype).set_title(\"Average number of coauthors per paper\")"
   ]
  },
  {
   "cell_type": "code",
   "execution_count": 39,
   "metadata": {},
   "outputs": [
    {
     "name": "stdout",
     "output_type": "stream",
     "text": [
      "[2009]\n",
      "Total number of grants 14758\n",
      "Division of Computer and Network Systems (CNS) 733\n",
      "Division of Computing and Communication Foundations (CCF) 535\n",
      "Division of Information and Intelligent Systems (IIS) 627\n",
      "Office of Advanced Cyberinfrastructure (OAC) 193\n"
     ]
    }
   ],
   "source": [
    "data = {}\n",
    "years = [2009]\n",
    "for y in years:\n",
    "    data.update(core.nsf_utils.load_numpub_data(y))\n",
    "data = {k:v for k, v in data.items() if v[\"type\"] in grant_type}\n",
    "for y in years:\n",
    "    print(\"[{}]\".format(y))\n",
    "    print(\"Total number of grants\", len([v for v in data.values() if v[\"year\"] == y]))\n",
    "    for code, desc in div_type.items():\n",
    "        print(desc, len([v for v in data.values() if v[\"org\"] == code and v[\"year\"] == y]))"
   ]
  },
  {
   "cell_type": "code",
   "execution_count": 40,
   "metadata": {},
   "outputs": [
    {
     "name": "stdout",
     "output_type": "stream",
     "text": [
      "Counter({1: 1258, 2: 457, 3: 174, 5: 93, 4: 83, 6: 15, 7: 4, 8: 2, 0: 2})\n"
     ]
    },
    {
     "data": {
      "image/png": "[encoded data removed]",
      "text/plain": [
       "<Figure size 432x288 with 1 Axes>"
      ]
     },
     "metadata": {
      "needs_background": "light"
     },
     "output_type": "display_data"
    }
   ],
   "source": [
    "histogram_num_pis(data, years, div_type.keys())"
   ]
  },
  {
   "cell_type": "code",
   "execution_count": 41,
   "metadata": {},
   "outputs": [
    {
     "name": "stdout",
     "output_type": "stream",
     "text": [
      "457 grants with 2 PIs\n"
     ]
    }
   ],
   "source": [
    "grant_list = [k for k, d in data.items() if d[\"org\"] in div_type.keys() and d[\"num_pis\"] == 2]\n",
    "print(len(grant_list), \"grants with 2 PIs\")"
   ]
  },
  {
   "cell_type": "code",
   "execution_count": 42,
   "metadata": {},
   "outputs": [
    {
     "name": "stdout",
     "output_type": "stream",
     "text": [
      "0902885 union=1, max_group=1, numpub=4 4 0\n",
      "0903191 union=2, max_group=2, numpub=9 28 22\n",
      "0903430 union=2, max_group=2, numpub=8 10 5\n",
      "0903432 union=3, max_group=2, numpub=25 67 44\n",
      "0903437 union=2, max_group=2, numpub=1 96 96\n",
      "0903447 union=2, max_group=2, numpub=2 6 5\n",
      "0903549 union=2, max_group=1, numpub=6 6 0\n",
      "0904116 union=2, max_group=1, numpub=4 4 0\n",
      "0904338 union=1, max_group=1, numpub=14 14 0\n",
      "0904353 union=3, max_group=2, numpub=12 20 9\n",
      "0904431 union=2, max_group=2, numpub=1 17 17\n",
      "0904449 union=2, max_group=2, numpub=6 13 8\n",
      "0904482 union=2, max_group=2, numpub=5 39 39\n",
      "0904501 union=2, max_group=1, numpub=14 14 0\n",
      "0904549 union=1, max_group=1, numpub=1 1 0\n",
      "0904572 union=2, max_group=2, numpub=6 25 21\n",
      "0904597 union=2, max_group=1, numpub=19 19 0\n",
      "0904625 union=2, max_group=2, numpub=10 17 12\n",
      "0904631 union=2, max_group=1, numpub=47 47 0\n",
      "0904672 union=1, max_group=1, numpub=3 3 0\n",
      "0904684 union=1, max_group=1, numpub=2 2 0\n",
      "0904729 union=2, max_group=2, numpub=7 17 15\n",
      "0904754 union=1, max_group=1, numpub=1 1 0\n",
      "0904782 union=2, max_group=2, numpub=53 53 8\n",
      "0904879 union=2, max_group=2, numpub=5 50 50\n",
      "0904952 union=1, max_group=1, numpub=2 2 0\n",
      "0905008 union=2, max_group=2, numpub=18 31 17\n",
      "0905014 union=3, max_group=2, numpub=17 57 47\n",
      "0905032 union=2, max_group=2, numpub=1 15 15\n",
      "0905059 union=1, max_group=1, numpub=3 3 0\n",
      "0905127 union=2, max_group=2, numpub=2 11 11\n",
      "0905134 union=0, max_group=0, numpub=1 1 0\n",
      "0905164 union=2, max_group=2, numpub=6 39 38\n",
      "0905215 union=2, max_group=2, numpub=44 91 50\n",
      "0905220 union=2, max_group=2, numpub=18 19 3\n",
      "0905228 union=1, max_group=1, numpub=2 2 0\n",
      "0905237 union=2, max_group=2, numpub=4 24 21\n",
      "0905244 union=1, max_group=1, numpub=1 1 0\n",
      "0905250 union=2, max_group=2, numpub=7 8 3\n",
      "0905276 union=2, max_group=2, numpub=13 35 26\n",
      "0905291 union=1, max_group=1, numpub=8 8 0\n",
      "0905331 union=2, max_group=2, numpub=17 22 10\n",
      "0905337 union=1, max_group=1, numpub=14 14 0\n",
      "0905349 union=2, max_group=1, numpub=4 4 0\n",
      "0905365 union=1, max_group=1, numpub=9 9 0\n",
      "0905370 union=2, max_group=2, numpub=3 5 3\n",
      "0905385 union=2, max_group=2, numpub=10 76 71\n",
      "0905447 union=2, max_group=2, numpub=10 28 21\n",
      "0905464 union=2, max_group=2, numpub=3 20 18\n",
      "0905467 union=2, max_group=2, numpub=13 15 3\n",
      "0905478 union=1, max_group=1, numpub=2 2 0\n",
      "0905530 union=1, max_group=1, numpub=1 1 0\n",
      "0905541 union=2, max_group=2, numpub=5 14 10\n",
      "0905562 union=1, max_group=1, numpub=3 3 0\n",
      "0905565 union=2, max_group=1, numpub=2 2 0\n",
      "0905584 union=1, max_group=1, numpub=8 8 0\n",
      "0905596 union=1, max_group=1, numpub=8 8 0\n",
      "0905602 union=2, max_group=2, numpub=10 15 6\n",
      "0905603 union=2, max_group=1, numpub=4 4 0\n",
      "0905622 union=2, max_group=2, numpub=2 41 40\n",
      "0905625 union=2, max_group=2, numpub=2 39 38\n",
      "0910485 union=2, max_group=2, numpub=2 10 9\n",
      "0910702 union=2, max_group=2, numpub=11 21 11\n",
      "0910706 union=2, max_group=1, numpub=4 4 0\n",
      "0910820 union=2, max_group=2, numpub=2 2 1\n",
      "0910838 union=2, max_group=2, numpub=7 218 217\n",
      "0910878 union=1, max_group=1, numpub=5 5 0\n",
      "0910899 union=1, max_group=1, numpub=3 3 0\n",
      "0910989 union=2, max_group=2, numpub=7 22 17\n",
      "0910992 union=1, max_group=1, numpub=5 5 0\n",
      "0913875 union=2, max_group=1, numpub=13 13 0\n",
      "0914312 union=1, max_group=1, numpub=3 3 0\n",
      "0914371 union=2, max_group=2, numpub=27 30 6\n",
      "0914615 union=2, max_group=2, numpub=3 31 31\n",
      "0914808 union=1, max_group=1, numpub=11 11 0\n",
      "0914845 union=1, max_group=1, numpub=1 1 0\n",
      "0914877 union=2, max_group=2, numpub=3 10 8\n",
      "0915016 union=2, max_group=2, numpub=8 21 14\n",
      "0915071 union=2, max_group=2, numpub=2 12 12\n",
      "0915145 union=2, max_group=2, numpub=21 25 7\n",
      "0915270 union=2, max_group=2, numpub=3 3 1\n",
      "0915302 union=2, max_group=2, numpub=1 5 5\n",
      "0915462 union=2, max_group=2, numpub=15 20 9\n",
      "0915543 union=2, max_group=2, numpub=10 17 8\n",
      "0915552 union=2, max_group=2, numpub=2 47 46\n",
      "0915559 union=1, max_group=1, numpub=3 3 0\n",
      "0915665 union=1, max_group=1, numpub=1 1 0\n",
      "0915697 union=1, max_group=1, numpub=1 1 0\n",
      "0915727 union=2, max_group=2, numpub=13 86 84\n",
      "0915762 union=1, max_group=1, numpub=9 9 0\n",
      "0915782 union=1, max_group=1, numpub=4 4 0\n",
      "0915800 union=2, max_group=1, numpub=9 9 0\n",
      "0915803 union=2, max_group=2, numpub=2 21 21\n",
      "0915805 union=1, max_group=1, numpub=1 1 0\n",
      "0915813 union=2, max_group=2, numpub=2 3 2\n",
      "0915851 union=1, max_group=1, numpub=2 2 0\n",
      "0915862 union=2, max_group=2, numpub=7 8 7\n",
      "0915899 union=2, max_group=2, numpub=5 6 2\n",
      "0915912 union=2, max_group=2, numpub=4 12 11\n",
      "0915926 union=2, max_group=2, numpub=3 25 23\n",
      "0915945 union=2, max_group=2, numpub=7 21 15\n",
      "0915976 union=1, max_group=1, numpub=3 3 0\n",
      "0915985 union=2, max_group=1, numpub=7 7 0\n",
      "0915996 union=0, max_group=0, numpub=1 1 0\n",
      "0916014 union=2, max_group=2, numpub=1 20 20\n",
      "0916035 union=1, max_group=1, numpub=2 2 0\n",
      "0916044 union=2, max_group=2, numpub=4 31 31\n",
      "0916047 union=2, max_group=2, numpub=11 12 2\n",
      "0916081 union=2, max_group=2, numpub=2 7 6\n",
      "0916083 union=2, max_group=2, numpub=6 11 6\n",
      "0916102 union=2, max_group=2, numpub=8 15 11\n",
      "0916105 union=1, max_group=1, numpub=6 6 0\n",
      "0916106 union=2, max_group=2, numpub=4 44 42\n",
      "0916112 union=1, max_group=1, numpub=1 1 0\n",
      "0916152 union=1, max_group=1, numpub=1 1 0\n",
      "0916171 union=2, max_group=1, numpub=15 15 0\n",
      "0916180 union=2, max_group=2, numpub=9 57 53\n",
      "0916196 union=1, max_group=1, numpub=3 3 0\n",
      "0916200 union=1, max_group=1, numpub=3 3 0\n",
      "0916217 union=2, max_group=2, numpub=1 3 3\n",
      "0916219 union=2, max_group=1, numpub=3 3 0\n",
      "0916221 union=2, max_group=2, numpub=5 14 10\n",
      "0916235 union=4, max_group=2, numpub=17 23 10\n",
      "0916286 union=3, max_group=2, numpub=11 13 3\n",
      "0916289 union=2, max_group=2, numpub=18 36 27\n",
      "0916307 union=1, max_group=1, numpub=2 2 0\n",
      "0916323 union=2, max_group=2, numpub=1 18 18\n",
      "0916389 union=2, max_group=2, numpub=6 31 27\n",
      "0916415 union=1, max_group=1, numpub=1 1 0\n",
      "0916425 union=2, max_group=2, numpub=7 40 35\n",
      "0916436 union=2, max_group=1, numpub=8 8 0\n",
      "0916439 union=2, max_group=2, numpub=17 107 102\n",
      "0916452 union=2, max_group=1, numpub=12 12 0\n",
      "0916515 union=2, max_group=2, numpub=7 24 19\n",
      "0916534 union=1, max_group=1, numpub=5 5 0\n",
      "0916555 union=1, max_group=1, numpub=3 3 0\n",
      "0916557 union=2, max_group=2, numpub=4 21 18\n",
      "0916568 union=2, max_group=2, numpub=3 17 17\n",
      "0916574 union=2, max_group=2, numpub=6 39 35\n",
      "0916577 union=2, max_group=1, numpub=11 11 0\n",
      "0916583 union=1, max_group=1, numpub=3 3 0\n",
      "0916584 union=2, max_group=2, numpub=6 11 8\n",
      "0916624 union=2, max_group=2, numpub=7 27 21\n",
      "0916664 union=2, max_group=1, numpub=39 39 0\n",
      "0916687 union=2, max_group=2, numpub=3 11 9\n",
      "0916691 union=1, max_group=1, numpub=1 1 0\n",
      "0916708 union=2, max_group=2, numpub=9 50 43\n",
      "0916716 union=2, max_group=2, numpub=4 6 6\n",
      "0916720 union=2, max_group=1, numpub=24 24 0\n",
      "0916725 union=2, max_group=2, numpub=8 91 86\n",
      "0916734 union=2, max_group=2, numpub=6 27 23\n",
      "0916736 union=2, max_group=2, numpub=12 20 12\n",
      "0916746 union=2, max_group=2, numpub=4 15 12\n",
      "0916750 union=2, max_group=2, numpub=16 17 2\n",
      "0916763 union=2, max_group=2, numpub=1 8 8\n",
      "0916817 union=2, max_group=1, numpub=4 4 0\n",
      "0916829 union=2, max_group=2, numpub=11 14 5\n",
      "0916852 union=2, max_group=2, numpub=9 16 13\n",
      "0916854 union=2, max_group=2, numpub=4 11 10\n",
      "0916878 union=2, max_group=2, numpub=1 31 31\n",
      "0916887 union=2, max_group=2, numpub=1 36 36\n",
      "0916891 union=2, max_group=2, numpub=9 9 1\n",
      "0916892 union=2, max_group=2, numpub=6 35 32\n",
      "0916893 union=2, max_group=2, numpub=17 20 5\n",
      "0916918 union=1, max_group=1, numpub=3 3 0\n",
      "0916947 union=1, max_group=1, numpub=11 11 0\n",
      "0916948 union=2, max_group=1, numpub=15 15 0\n",
      "0916958 union=2, max_group=1, numpub=3 3 0\n",
      "0917000 union=2, max_group=2, numpub=5 17 14\n",
      "0917008 union=2, max_group=2, numpub=7 57 53\n",
      "0917012 union=1, max_group=1, numpub=2 2 0\n",
      "0917057 union=2, max_group=1, numpub=5 5 0\n",
      "0917070 union=2, max_group=2, numpub=13 23 12\n",
      "0917078 union=1, max_group=1, numpub=1 1 0\n",
      "0917096 union=2, max_group=2, numpub=2 6 5\n",
      "0917167 union=1, max_group=1, numpub=8 8 0\n",
      "0917175 union=2, max_group=2, numpub=6 75 72\n",
      "0917194 union=1, max_group=1, numpub=2 2 0\n",
      "0917204 union=2, max_group=2, numpub=3 10 10\n",
      "0917213 union=2, max_group=2, numpub=1 7 7\n",
      "0917218 union=1, max_group=1, numpub=1 1 0\n",
      "0917226 union=1, max_group=1, numpub=4 4 0\n",
      "0917229 union=1, max_group=1, numpub=2 2 0\n",
      "0917230 union=2, max_group=1, numpub=8 8 0\n",
      "0917232 union=2, max_group=2, numpub=1 6 6\n",
      "0917233 union=3, max_group=2, numpub=7 12 7\n",
      "0917238 union=1, max_group=1, numpub=5 5 0\n",
      "0917251 union=2, max_group=2, numpub=6 22 18\n",
      "0917257 union=1, max_group=1, numpub=4 4 0\n",
      "0917261 union=2, max_group=2, numpub=3 66 64\n",
      "0917265 union=2, max_group=2, numpub=7 32 29\n",
      "0917274 union=2, max_group=2, numpub=29 74 67\n",
      "0917288 union=2, max_group=2, numpub=20 50 33\n",
      "0917315 union=2, max_group=2, numpub=1 9 9\n",
      "0917340 union=2, max_group=2, numpub=1 1 1\n",
      "0917341 union=1, max_group=1, numpub=4 4 0\n",
      "0917342 union=2, max_group=1, numpub=7 7 0\n",
      "0917343 union=2, max_group=1, numpub=8 8 0\n",
      "0917362 union=1, max_group=1, numpub=2 2 0\n",
      "0917379 union=1, max_group=1, numpub=1 1 0\n",
      "0917398 union=1, max_group=1, numpub=11 11 0\n",
      "0917401 union=2, max_group=2, numpub=7 9 3\n",
      "0917408 union=1, max_group=1, numpub=1 1 0\n",
      "0917816 union=2, max_group=2, numpub=3 15 15\n",
      "0922996 union=1, max_group=1, numpub=9 9 0\n",
      "0923152 union=2, max_group=2, numpub=2 5 4\n",
      "0923386 union=1, max_group=1, numpub=13 13 0\n",
      "0924385 union=1, max_group=1, numpub=3 3 0\n",
      "0926701 union=1, max_group=1, numpub=8 8 0\n",
      "0930081 union=1, max_group=1, numpub=5 5 0\n",
      "0930477 union=2, max_group=2, numpub=1 1 1\n",
      "0930647 union=2, max_group=2, numpub=4 193 193\n",
      "0930746 union=2, max_group=2, numpub=21 49 35\n",
      "0930813 union=2, max_group=1, numpub=4 4 0\n",
      "0931035 union=2, max_group=2, numpub=6 40 37\n",
      "0931195 union=2, max_group=1, numpub=3 3 0\n",
      "0931416 union=2, max_group=2, numpub=18 45 32\n",
      "0931474 union=2, max_group=2, numpub=18 20 6\n",
      "0931576 union=1, max_group=1, numpub=4 4 0\n",
      "0931693 union=2, max_group=2, numpub=12 44 35\n",
      "0931871 union=1, max_group=1, numpub=9 9 0\n"
     ]
    },
    {
     "name": "stdout",
     "output_type": "stream",
     "text": [
      "0931885 union=1, max_group=1, numpub=13 13 0\n",
      "0931969 union=4, max_group=2, numpub=21 46 37\n",
      "0931985 union=1, max_group=1, numpub=3 3 0\n",
      "0931992 union=2, max_group=1, numpub=6 6 0\n",
      "0931999 union=2, max_group=2, numpub=3 12 11\n",
      "0932069 union=1, max_group=1, numpub=1 1 0\n",
      "0932389 union=2, max_group=2, numpub=2 2 1\n",
      "0932397 union=2, max_group=2, numpub=2 23 22\n",
      "0932423 union=1, max_group=1, numpub=1 1 0\n",
      "0934364 union=2, max_group=2, numpub=4 21 19\n",
      "0937690 union=1, max_group=1, numpub=3 3 0\n",
      "0937810 union=1, max_group=1, numpub=2 2 0\n",
      "0937833 union=2, max_group=2, numpub=26 26 1\n",
      "0937854 union=2, max_group=2, numpub=11 18 9\n",
      "0937860 union=2, max_group=2, numpub=34 54 21\n",
      "0937908 union=2, max_group=2, numpub=7 12 7\n",
      "0937925 union=2, max_group=2, numpub=21 60 46\n",
      "0937938 union=0, max_group=0, numpub=1 1 0\n",
      "0937959 union=2, max_group=2, numpub=4 151 151\n",
      "0937993 union=1, max_group=1, numpub=3 3 0\n",
      "0938000 union=2, max_group=2, numpub=7 128 127\n",
      "0939002 union=2, max_group=2, numpub=4 6 3\n",
      "0939081 union=2, max_group=2, numpub=1 6 6\n",
      "0939097 union=2, max_group=2, numpub=1 5 5\n",
      "0939187 union=2, max_group=2, numpub=8 72 67\n",
      "0941078 union=1, max_group=1, numpub=3 3 0\n",
      "0941085 union=2, max_group=2, numpub=1 137 137\n",
      "0941581 union=2, max_group=2, numpub=2 125 125\n",
      "0941735 union=2, max_group=2, numpub=4 13 13\n",
      "0943069 union=1, max_group=1, numpub=1 1 0\n",
      "0943148 union=2, max_group=2, numpub=9 12 6\n",
      "0943168 union=2, max_group=2, numpub=12 16 6\n",
      "0943184 union=1, max_group=1, numpub=1 1 0\n",
      "0943203 union=2, max_group=2, numpub=1 5 5\n",
      "0943385 union=2, max_group=1, numpub=10 10 0\n",
      "0943505 union=0, max_group=0, numpub=3 3 0\n",
      "0944125 union=2, max_group=2, numpub=6 23 21\n",
      "0944131 union=1, max_group=1, numpub=1 1 0\n",
      "0946273 union=2, max_group=2, numpub=2 80 80\n",
      "0946400 union=2, max_group=1, numpub=14 14 0\n",
      "0946601 union=2, max_group=2, numpub=6 22 22\n",
      "0947679 union=2, max_group=2, numpub=5 5 3\n",
      "0948424 union=2, max_group=2, numpub=1 14 14\n",
      "0948601 union=2, max_group=1, numpub=6 6 0\n",
      "0948893 union=2, max_group=2, numpub=2 12 12\n",
      "0948901 union=0, max_group=0, numpub=1 1 0\n",
      "0949667 union=2, max_group=2, numpub=2 2 1\n",
      "0950440 union=2, max_group=2, numpub=6 14 11\n",
      "0952287 union=1, max_group=1, numpub=1 1 0\n",
      "0953749 union=1, max_group=1, numpub=13 13 0\n",
      "0953994 union=2, max_group=2, numpub=2 13 13\n",
      "0954310 union=1, max_group=1, numpub=1 1 0\n",
      "0956311 union=2, max_group=2, numpub=2 4 4\n",
      "0956501 union=2, max_group=2, numpub=10 28 19\n",
      "0957394 union=2, max_group=2, numpub=4 22 19\n",
      "0957718 union=2, max_group=2, numpub=4 4 1\n",
      "0958123 union=1, max_group=1, numpub=1 1 0\n",
      "0958193 union=1, max_group=1, numpub=1 1 0\n",
      "0958303 union=2, max_group=2, numpub=1 6 6\n",
      "0958345 union=1, max_group=1, numpub=6 6 1\n",
      "0958436 union=2, max_group=2, numpub=2 25 25\n",
      "0958442 union=2, max_group=2, numpub=1 7 7\n",
      "0958487 union=2, max_group=1, numpub=5 5 0\n",
      "0958490 union=2, max_group=2, numpub=1 3 3\n",
      "0958585 union=2, max_group=2, numpub=7 12 6\n",
      "0959096 union=2, max_group=2, numpub=8 32 27\n",
      "0961234 union=1, max_group=1, numpub=4 4 0\n",
      "0963081 union=2, max_group=2, numpub=1 1 1\n",
      "0963204 union=1, max_group=1, numpub=1 1 0\n",
      "0963478 union=1, max_group=1, numpub=2 2 0\n",
      "0963695 union=2, max_group=2, numpub=2 5 4\n",
      "0963702 union=1, max_group=1, numpub=3 3 0\n",
      "0963717 union=1, max_group=1, numpub=5 5 0\n",
      "0963742 union=2, max_group=2, numpub=13 14 3\n",
      "0963754 union=2, max_group=2, numpub=6 71 67\n",
      "0963757 union=2, max_group=2, numpub=6 17 17\n",
      "0963759 union=3, max_group=1, numpub=10 10 0\n",
      "0963834 union=2, max_group=2, numpub=7 8 2\n",
      "0963922 union=2, max_group=1, numpub=4 4 0\n",
      "0963925 union=2, max_group=2, numpub=20 24 5\n",
      "0963993 union=1, max_group=1, numpub=14 14 0\n",
      "0963996 union=1, max_group=1, numpub=2 2 0\n",
      "0964004 union=1, max_group=1, numpub=3 3 0\n",
      "0964037 union=1, max_group=1, numpub=18 18 0\n",
      "0964075 union=2, max_group=2, numpub=4 126 125\n",
      "0964079 union=0, max_group=0, numpub=3 3 0\n",
      "0964081 union=2, max_group=1, numpub=6 6 0\n",
      "0964215 union=2, max_group=1, numpub=7 7 0\n",
      "0964218 union=2, max_group=2, numpub=2 19 18\n",
      "0964236 union=1, max_group=1, numpub=9 9 0\n",
      "0964269 union=1, max_group=1, numpub=1 1 0\n",
      "0964294 union=2, max_group=1, numpub=4 4 0\n",
      "0964302 union=2, max_group=2, numpub=13 26 15\n",
      "0964324 union=2, max_group=2, numpub=5 9 6\n",
      "0964334 union=2, max_group=2, numpub=2 24 23\n",
      "0964357 union=2, max_group=2, numpub=6 10 5\n",
      "0964409 union=2, max_group=1, numpub=7 7 0\n",
      "0964412 union=1, max_group=1, numpub=19 19 0\n",
      "0964413 union=2, max_group=2, numpub=5 26 23\n",
      "0964471 union=2, max_group=2, numpub=5 18 14\n",
      "0964474 union=1, max_group=1, numpub=2 2 0\n",
      "0964479 union=1, max_group=1, numpub=3 3 0\n",
      "0964545 union=2, max_group=2, numpub=5 9 7\n",
      "0964560 union=2, max_group=2, numpub=10 20 11\n",
      "0964581 union=1, max_group=1, numpub=6 6 0\n",
      "0964590 union=2, max_group=2, numpub=3 36 34\n",
      "0964592 union=1, max_group=1, numpub=2 2 0\n",
      "0964606 union=2, max_group=2, numpub=7 11 5\n",
      "0964627 union=2, max_group=1, numpub=11 11 0\n",
      "0964634 union=2, max_group=2, numpub=10 21 12\n",
      "0964652 union=2, max_group=2, numpub=7 26 24\n",
      "0964681 union=2, max_group=2, numpub=6 9 4\n",
      "0964695 union=2, max_group=1, numpub=4 4 0\n",
      "0964696 union=2, max_group=2, numpub=12 17 8\n",
      "0964705 union=2, max_group=2, numpub=3 51 49\n",
      "0968483 union=1, max_group=1, numpub=4 4 0\n",
      "0968485 union=0, max_group=0, numpub=1 1 0\n",
      "0968561 union=2, max_group=2, numpub=7 7 1\n",
      "0968588 union=1, max_group=1, numpub=3 3 0\n",
      "0968959 union=0, max_group=0, numpub=13 13 0\n",
      "0970179 union=0, max_group=0, numpub=3 3 0\n",
      "115 (25.16%) grants have no publication\n",
      "102 (22.32%) grants have only one working PI\n",
      "41 (8.97%) grants have two PIs working separately\n",
      "190 (41.58%) grants have two PIs collaborated\n",
      "9 (1.97%) grants are unknown\n"
     ]
    }
   ],
   "source": [
    "no_publications = []\n",
    "no_edges = []\n",
    "other = []\n",
    "only_one_pi = []\n",
    "two_separate = []\n",
    "two_cowork = []\n",
    "for pid in grant_list:\n",
    "    table, ts, te, G_all = core.coworknet.get_grant_coworknet_pis(pid)\n",
    "    if len(table) == 0:\n",
    "        no_publications.append(pid)\n",
    "        continue\n",
    "    pis = [a for a in G_all.nodes() if \"pi\" in G_all.nodes[a] and G_all.nodes[a] [\"pi\"]]\n",
    "    G = G_all.subgraph(pis)\n",
    "        \n",
    "    working_pis = []\n",
    "    reported_pub_number = 0\n",
    "    for k, v in table.items():\n",
    "        if v[\"type\"]: # only count publicatoins in-grant\n",
    "            reported_pub_number += 1\n",
    "            working_pis.append([a for a, av in v[\"authors\"].items() if av[\"pi\"]])\n",
    "    # print(pid, working_pis)\n",
    "    pi_counter = [set([n[0]+n.split(\" \")[-1] for n in group]) for group in working_pis]\n",
    "    pi_union = set.union(*pi_counter)\n",
    "    pi_max_group = max([len(pg) for pg in pi_counter])\n",
    "#     print(pi_counter, pi_union, pi_max_group)\n",
    "    print(\"{} union={}, max_group={}, numpub={} {} {}\".format(pid, len(pi_union), pi_max_group, reported_pub_number, len(table), len(G.edges)))\n",
    "    if len(pi_union) >= 2 and pi_max_group >= 2:\n",
    "        two_cowork.append(pid)\n",
    "    elif len(pi_union) >= 2:\n",
    "        two_separate.append(pid)\n",
    "    elif len(pi_union) == 1:\n",
    "        only_one_pi.append(pid)\n",
    "    else:\n",
    "        other.append(pid)\n",
    "print(\"{} ({:.2f}%) grants have no publication\".format(len(no_publications), 100*len(no_publications)/len(grant_list)))\n",
    "print(\"{} ({:.2f}%) grants have only one working PI\".format(len(only_one_pi), 100*len(only_one_pi)/len(grant_list)))\n",
    "print(\"{} ({:.2f}%) grants have two PIs working separately\".format(len(two_separate), 100*len(two_separate)/len(grant_list)))\n",
    "print(\"{} ({:.2f}%) grants have two PIs collaborated\".format(len(two_cowork), 100*len(two_cowork)/len(grant_list)))\n",
    "print(\"{} ({:.2f}%) grants are unknown\".format(len(other), 100*len(other)/len(grant_list)))"
   ]
  },
  {
   "cell_type": "code",
   "execution_count": 43,
   "metadata": {},
   "outputs": [
    {
     "name": "stdout",
     "output_type": "stream",
     "text": [
      "191 grants - two PIs collaborated\n",
      "Counter({'000': 266, '111': 97, '011': 37, '010': 30, '110': 27})\n"
     ]
    }
   ],
   "source": [
    "collab_type = {}\n",
    "dict_period = {}\n",
    "dict_teams = {}\n",
    "dict_publications = {}\n",
    "dict_citations = {}\n",
    "dict_timestamps = {}\n",
    "convert_t = lambda t: datetime.strptime(t, \"%Y-%m-%dT%X\")\n",
    "\n",
    "for grant_id in grant_list:\n",
    "    _,ts,te,G_all = core.coworknet.get_grant_coworknet_pis(grant_id)\n",
    "    pis = [a for a in G_all.nodes() if \"pi\" in G_all.nodes[a] and G_all.nodes[a] [\"pi\"]]\n",
    "#     print(pis)\n",
    "    G = G_all.subgraph(pis)\n",
    "#     if len(G.edges) == 0:\n",
    "#         continue\n",
    "        \n",
    "#     print(grant_id)\n",
    "    publications = {\"pre-grant\":0, \"grant\":0, \"post-grant\":0}\n",
    "    citations = {\"pre-grant\":0, \"grant\":0, \"post-grant\":0}\n",
    "    teams = {\"pre-grant\":0, \"grant\":0, \"post-grant\":0}\n",
    "    dates = [convert_t(data[\"date\"]) for _,_,data in G.edges.data()]\n",
    "    for u,v,data in G.edges.data():\n",
    "#         print(data[\"paper\"])\n",
    "        num_coauthor = len([e for e in G_all.edges.data() if e[2][\"paper\"] == data[\"paper\"]])/2\n",
    "#         print(data[\"paper\"], num_coauthor)\n",
    "        if data[\"grant\"] != \"other\" or (ts <= convert_t(data[\"date\"]) and convert_t(data[\"date\"]) <= te):\n",
    "#             print(\"grant\") # reported publications or unreported pubs in the grant period\n",
    "            teams[\"grant\"] += num_coauthor\n",
    "            publications[\"grant\"] += 1\n",
    "            citations[\"grant\"] += data[\"citation\"]\n",
    "        elif convert_t(data[\"date\"]) < ts:\n",
    "#             print(\"pre-grant\") # unreported publications before the grant period\n",
    "            teams[\"pre-grant\"] += num_coauthor\n",
    "            publications[\"pre-grant\"] += 1\n",
    "            citations[\"pre-grant\"] += data[\"citation\"]\n",
    "        elif te < convert_t(data[\"date\"]):\n",
    "#             print(\"post-grant\") # unreported publications after the grant period\n",
    "            teams[\"post-grant\"] += num_coauthor\n",
    "            publications[\"post-grant\"] += 1\n",
    "            citations[\"post-grant\"] += data[\"citation\"]\n",
    "    dict_period[grant_id] = (te-ts).days\n",
    "    dict_teams[grant_id] = teams\n",
    "    dict_publications[grant_id] = publications\n",
    "    dict_citations[grant_id] = citations\n",
    "    dict_timestamps[grant_id] = sorted(dates)\n",
    "#     print(publications, dict_timestamps[grant_id])\n",
    "\n",
    "ctypes = []\n",
    "for gid, v in dict_publications.items():\n",
    "    collab_type[gid] = \"{}{}{}\".format(1 if v[\"pre-grant\"]>0 else 0, 1 if v[\"grant\"]>0 else 0, 1 if v[\"post-grant\"]>0 else 0)\n",
    "    ctypes.append(collab_type[gid])\n",
    "    \n",
    "print(len([k for k in dict_timestamps.keys() if collab_type[k] != \"000\"]), \"grants - two PIs collaborated\")\n",
    "print(Counter(ctypes))"
   ]
  },
  {
   "cell_type": "code",
   "execution_count": 44,
   "metadata": {},
   "outputs": [
    {
     "data": {
      "text/plain": [
       "{'0958345'}"
      ]
     },
     "execution_count": 44,
     "metadata": {},
     "output_type": "execute_result"
    }
   ],
   "source": [
    "set([k for k in dict_timestamps.keys() if collab_type[k] != \"000\"])-set(two_cowork)"
   ]
  },
  {
   "cell_type": "code",
   "execution_count": 46,
   "metadata": {},
   "outputs": [
    {
     "data": {
      "image/png": "[encoded data removed]",
      "text/plain": [
       "<Figure size 432x576 with 1 Axes>"
      ]
     },
     "metadata": {
      "needs_background": "light"
     },
     "output_type": "display_data"
    }
   ],
   "source": [
    "x = [\"grant\"]\n",
    "ctype = [\"010\", \"011\", \"110\", \"111\"]\n",
    "box_plot_data = pd.DataFrame({\n",
    "    \"time\": [time for time in x for k, v in collab_type.items() if v in ctype],\n",
    "    \"grant_period\": [dict_period[k] for k, v in collab_type.items() if v in ctype],\n",
    "    \"avg_team\": [dict_teams[k][time]/dict_publications[k][time] for time in x for k, v in collab_type.items() if v in ctype],\n",
    "    \"publication\": [dict_publications[k][time] for time in x for k, v in collab_type.items() if v in ctype],\n",
    "    \"citation\": [dict_citations[k][time] for time in x for k, v in collab_type.items() if v in ctype],\n",
    "    \"ctype\": [v for time in x for k, v in collab_type.items() if v in ctype]\n",
    "})\n",
    "        \n",
    "# print(box_plot_data.head(5))\n",
    "plt.figure(figsize=(6,8))\n",
    "ax = sns.boxplot(x=\"time\", y=\"publication\", hue=\"ctype\", data=box_plot_data, showmeans=True, hue_order=ctype).set_title(\"Number of publications in grant period\")"
   ]
  },
  {
   "cell_type": "code",
   "execution_count": 47,
   "metadata": {},
   "outputs": [
    {
     "data": {
      "image/png": "[encoded data removed]",
      "text/plain": [
       "<Figure size 432x576 with 1 Axes>"
      ]
     },
     "metadata": {
      "needs_background": "light"
     },
     "output_type": "display_data"
    }
   ],
   "source": [
    "plt.figure(figsize=(6,8))\n",
    "ax = sns.boxplot(x=\"time\", y=\"citation\", hue=\"ctype\", data=box_plot_data, showmeans=True, hue_order=ctype).set_title(\"Number of citation of the papers published in grant period\")"
   ]
  },
  {
   "cell_type": "code",
   "execution_count": 52,
   "metadata": {},
   "outputs": [
    {
     "data": {
      "image/png": "[encoded data removed]",
      "text/plain": [
       "<Figure size 432x576 with 1 Axes>"
      ]
     },
     "metadata": {
      "needs_background": "light"
     },
     "output_type": "display_data"
    }
   ],
   "source": [
    "box_plot_data[\"average_citation\"] = (box_plot_data[\"citation\"]/box_plot_data[\"publication\"]).fillna(0)\n",
    "plt.figure(figsize=(6,8))\n",
    "ax = sns.boxplot(x=\"time\", y=\"average_citation\", hue=\"ctype\", data=box_plot_data, showmeans=True, hue_order=ctype).set_title(\"Average citations/paper published in grant period\")"
   ]
  },
  {
   "cell_type": "code",
   "execution_count": 49,
   "metadata": {},
   "outputs": [
    {
     "data": {
      "image/png": "[encoded data removed]",
      "text/plain": [
       "<Figure size 432x576 with 1 Axes>"
      ]
     },
     "metadata": {
      "needs_background": "light"
     },
     "output_type": "display_data"
    }
   ],
   "source": [
    "plt.figure(figsize=(6,8))\n",
    "ax = sns.boxplot(x=\"time\", y=\"grant_period\", hue=\"ctype\", data=box_plot_data, showmeans=True, hue_order=ctype).set_title(\"Grant period\")"
   ]
  },
  {
   "cell_type": "code",
   "execution_count": 50,
   "metadata": {},
   "outputs": [
    {
     "data": {
      "image/png": "[encoded data removed]",
      "text/plain": [
       "<Figure size 432x576 with 1 Axes>"
      ]
     },
     "metadata": {
      "needs_background": "light"
     },
     "output_type": "display_data"
    }
   ],
   "source": [
    "plt.figure(figsize=(6,8))\n",
    "ax = sns.boxplot(x=\"time\", y=\"avg_team\", hue=\"ctype\", data=box_plot_data, showmeans=True, hue_order=ctype).set_title(\"Average number of coauthors per paper\")"
   ]
  },
  {
   "cell_type": "code",
   "execution_count": null,
   "metadata": {},
   "outputs": [],
   "source": []
  }
 ],
 "metadata": {
  "kernelspec": {
   "display_name": "moneymatters",
   "language": "python",
   "name": "mm"
  },
  "language_info": {
   "codemirror_mode": {
    "name": "ipython",
    "version": 3
   },
   "file_extension": ".py",
   "mimetype": "text/x-python",
   "name": "python",
   "nbconvert_exporter": "python",
   "pygments_lexer": "ipython3",
   "version": "3.7.3"
  }
 },
 "nbformat": 4,
 "nbformat_minor": 2
}
