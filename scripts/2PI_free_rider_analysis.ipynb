{
 "cells": [
  {
   "cell_type": "markdown",
   "metadata": {},
   "source": [
    "# NSF Computer and Information Science and Engineering (CISE) \n",
    "\n",
    "- `0505****`: Division of Computer and Network Systems (CNS)\n",
    "- `0501****`: Division of Computing and Communication Foundations (CCF)\n",
    "- `0502****`: Division of Information and Intelligent Systems (IIS)\n",
    "- `0509****`: Office of Advanced Cyberinfrastructure (OAC)"
   ]
  },
  {
   "cell_type": "code",
   "execution_count": 1,
   "metadata": {},
   "outputs": [],
   "source": [
    "import os,sys,json\n",
    "import core.coworknet, core.nsf_utils\n",
    "import matplotlib.pyplot as plt\n",
    "import matplotlib.cm as cm\n",
    "import numpy as np\n",
    "import networkx as nx\n",
    "import seaborn as sns\n",
    "import pandas as pd\n",
    "from datetime import datetime\n",
    "from collections import Counter"
   ]
  },
  {
   "cell_type": "code",
   "execution_count": 2,
   "metadata": {},
   "outputs": [],
   "source": [
    "grant_type = [\"Standard Grant\", \"Continuing grant\"] # draw only these types\n",
    "div_type = {\n",
    "    \"0505\": \"Division of Computer and Network Systems (CNS)\",\n",
    "    \"0501\": \"Division of Computing and Communication Foundations (CCF)\",\n",
    "    \"0502\": \"Division of Information and Intelligent Systems (IIS)\",\n",
    "    \"0509\": \"Office of Advanced Cyberinfrastructure (OAC)\"\n",
    "}"
   ]
  },
  {
   "cell_type": "code",
   "execution_count": 3,
   "metadata": {},
   "outputs": [
    {
     "name": "stdout",
     "output_type": "stream",
     "text": [
      "[2004]\n",
      "Total number of grants 10212\n",
      "Division of Computer and Network Systems (CNS) 413\n",
      "Division of Computing and Communication Foundations (CCF) 349\n",
      "Division of Information and Intelligent Systems (IIS) 365\n",
      "Office of Advanced Cyberinfrastructure (OAC) 53\n"
     ]
    }
   ],
   "source": [
    "data = {}\n",
    "years = [2004]\n",
    "for y in years:\n",
    "    data.update(core.nsf_utils.load_numpub_data(y))\n",
    "data = {k:v for k, v in data.items() if v[\"type\"] in grant_type}\n",
    "for y in years:\n",
    "    print(\"[{}]\".format(y))\n",
    "    print(\"Total number of grants\", len([v for v in data.values() if v[\"year\"] == y]))\n",
    "    for code, desc in div_type.items():\n",
    "        print(desc, len([v for v in data.values() if v[\"org\"][:4] == code and v[\"year\"] == y]))"
   ]
  },
  {
   "cell_type": "code",
   "execution_count": 4,
   "metadata": {},
   "outputs": [
    {
     "name": "stdout",
     "output_type": "stream",
     "text": [
      "['0401049', '0403020', '0403130', '0403590', '0404001', '0404011', '0404193', '0404297', '0404440', '0406305', '0406345', '0406384', '0410203', '0410246', '0410409', '0410524', '0410553', '0410771', '0410790', '0410918', '0410937', '0411127', '0411152', '0411307', '0412029', '0412858', '0412884', '0412894', '0412930', '0412965', '0413012', '0413078', '0413085', '0413138', '0413196', '0413214', '0413227', '0413251', '0413284', '0413321', '0413328', '0413709', '0414380', '0414409', '0414482', '0414557', '0414567', '0414630', '0414710', '0414762', '0414763', '0414791', '0414815', '0414976', '0414981', '0415016', '0415021', '0415101', '0415175', '0415195', '0415257', '0415865', '0415923', '0416364', '0417607', '0418165', '0420337', '0420434', '0420505', '0420866', '0420873', '0420906', '0420985', '0423014', '0423039', '0423070', '0423253', '0423305', '0423546', '0423584', '0424601', '0426021', '0426557', '0426627', '0426674', '0426879', '0426904', '0427260', '0427385', '0427695', '0428427', '0429154', '0429211', '0429228', '0429364', '0429365', '0429454', '0429469', '0429481', '0429535', '0429591', '0429631', '0429640', '0429653', '0429711', '0429743', '0429766', '0429781', '0429836', '0429930', '0429948', '0430061', '0430063', '0430077', '0430166', '0430228', '0430258', '0430271', '0430303', '0430304', '0430318', '0430402', '0430474', '0430477', '0430487', '0430510', '0430593', '0430654', '0430742', '0430781', '0430822', '0430848', '0430849', '0430853', '0430885', '0430892', '0430915', '0430954', '0430994', '0431024', '0431030', '0431031', '0431051', '0431059', '0431069', '0431088', '0431128', '0431150', '0431166', '0431177', '0432009', '0432038', '0432063', '0432098', '0432116', '0432186', '0432297', '0432881', '0433392', '0433454', '0434078', '0434120', '0434211', '0434410', '0434512', '0434533', '0434816', '0434824', '0434996', '0435023', '0435043', '0435060', '0435065', '0435087', '0435111', '0435134', '0435157', '0435247', '0435272', '0435292', '0435303', '0435381', '0435429', '0435480', '0435505', '0435517', '0435531', '0437603', '0437810', '0438263', '0438314', '0438372', '0438803', '0438848', '0438871', '0438923', '0438948', '0439034', '0439061', '0440021', '0440133', '0440443', '0441172', '0441999', '0442128', '0443162', '0443257', '0443591', '0444412', '0444417', '0444486', '0447079', '0447973', '0449573', '0450112', '0451097', '0451431', '0452180', '0452235', '0453456', '0453459', '0453463', '0453491', '0453498', '0453545', '0453552', '0453604', '0454018', '0454056', '0454062', '0454130', '0454174', '0454189', '0454195', '0454233', '0454381', '0454416', '0454425', '0454437', '0455361', '0455997', '0455998', '0456001', '0456017', '0456026', '0456129']\n"
     ]
    }
   ],
   "source": [
    "grant_list = [k for k, d in data.items() if d[\"org\"][:4] in div_type.keys() and d[\"num_pis\"] == 2]\n",
    "print(grant_list)"
   ]
  },
  {
   "cell_type": "code",
   "execution_count": 5,
   "metadata": {},
   "outputs": [
    {
     "name": "stdout",
     "output_type": "stream",
     "text": [
      "246 grants with 2 PIs\n"
     ]
    }
   ],
   "source": [
    "grant_list = [k for k, d in data.items() if d[\"org\"][:4] in div_type.keys() and d[\"num_pis\"] == 2]\n",
    "print(len(grant_list), \"grants with 2 PIs\")"
   ]
  },
  {
   "cell_type": "code",
   "execution_count": 6,
   "metadata": {},
   "outputs": [
    {
     "name": "stdout",
     "output_type": "stream",
     "text": [
      "53 (21.54%) grants have no publication\n",
      "46 (18.70%) grants have only one working PI\n",
      "20 (8.13%) grants have two PIs working separately\n",
      "115 (46.75%) grants have two PIs collaborated\n",
      "12 (4.88%) grants are unknown\n"
     ]
    }
   ],
   "source": [
    "no_publications = []\n",
    "no_edges = []\n",
    "other = []\n",
    "only_one_pi = []\n",
    "two_separate = []\n",
    "two_cowork = []\n",
    "for pid in grant_list:\n",
    "    award, table, ts, te, G_all = core.coworknet.get_grant_coworknet_pis(pid)\n",
    "    if len(table) == 0:\n",
    "        no_publications.append(pid)\n",
    "        continue\n",
    "    pis = [a for a in G_all.nodes() if \"pi\" in G_all.nodes[a] and G_all.nodes[a] [\"pi\"]]\n",
    "    G = G_all.subgraph(pis)\n",
    "        \n",
    "    working_pis = []\n",
    "    reported_pub_number = 0\n",
    "    for k, v in table.items():\n",
    "        if v[\"type\"]: # only count publicatoins in-grant\n",
    "            reported_pub_number += 1\n",
    "            working_pis.append([a for a, av in v[\"authors\"].items() if av[\"pi\"]])\n",
    "    # print(pid, working_pis)\n",
    "    pi_counter = [set([n[0]+n.split(\" \")[-1] for n in group]) for group in working_pis]\n",
    "    pi_union = set.union(*pi_counter)\n",
    "    pi_max_group = max([len(pg) for pg in pi_counter])\n",
    "#     print(pi_counter, pi_union, pi_max_group)\n",
    "#     print(\"{} union={}, max_group={}, numpub={} {} {}\".format(pid, len(pi_union), pi_max_group, reported_pub_number, len(table), len(G.edges)))\n",
    "    if len(pi_union) == 2 and pi_max_group == 2:\n",
    "        two_cowork.append(pid)\n",
    "    elif len(pi_union) == 2:\n",
    "        two_separate.append(pid)\n",
    "    elif len(pi_union) == 1:\n",
    "        only_one_pi.append(pid)\n",
    "    else:\n",
    "        other.append(pid)\n",
    "print(\"{} ({:.2f}%) grants have no publication\".format(len(no_publications), 100*len(no_publications)/len(grant_list)))\n",
    "print(\"{} ({:.2f}%) grants have only one working PI\".format(len(only_one_pi), 100*len(only_one_pi)/len(grant_list)))\n",
    "print(\"{} ({:.2f}%) grants have two PIs working separately\".format(len(two_separate), 100*len(two_separate)/len(grant_list)))\n",
    "print(\"{} ({:.2f}%) grants have two PIs collaborated\".format(len(two_cowork), 100*len(two_cowork)/len(grant_list)))\n",
    "print(\"{} ({:.2f}%) grants are unknown\".format(len(other), 100*len(other)/len(grant_list)))"
   ]
  },
  {
   "cell_type": "code",
   "execution_count": 8,
   "metadata": {},
   "outputs": [
    {
     "name": "stdout",
     "output_type": "stream",
     "text": [
      "{'norm': 'dong qian', 'id': 2244610683, 'paperCount': 112, 'citationCount': 3197, 'pi': True, 'role': 'Principal Investigator'} {'norm': 'minfeng yu', 'id': 2125832006, 'paperCount': 86, 'citationCount': 10328, 'pi': True, 'role': 'Co-Principal Investigator'}\n",
      "{'norm': 'ronald sass', 'id': 2303421236, 'paperCount': 1, 'citationCount': 20, 'pi': True, 'role': 'Principal Investigator'} {'norm': 'david l andrews', 'id': 2144712041, 'paperCount': 503, 'citationCount': 4492, 'pi': True, 'role': 'Co-Principal Investigator'}\n",
      "{'norm': 'keith w ross', 'id': 2779742282, 'paperCount': 14, 'citationCount': 2052, 'pi': True, 'role': 'Co-Principal Investigator'} {'norm': 'phyllis g frankl', 'id': 2044835467, 'paperCount': 55, 'citationCount': 2751, 'pi': True, 'role': 'Principal Investigator'}\n",
      "{'norm': 'thorsten joachims', 'id': 245171893, 'paperCount': 193, 'citationCount': 37121, 'pi': True, 'role': 'Principal Investigator'} {'norm': 'rich caruana', 'id': 2106722673, 'paperCount': 111, 'citationCount': 8021, 'pi': True, 'role': 'Co-Principal Investigator'}\n",
      "{'norm': 'sven koenig', 'id': 2779117139, 'paperCount': 1, 'citationCount': 6, 'pi': True, 'role': 'Former Principal Investigator'} {'norm': 'shanghua teng', 'id': 2103844955, 'paperCount': 220, 'citationCount': 8598, 'pi': True, 'role': 'Principal Investigator'}\n",
      "{'norm': 'j r beveridge', 'id': 2682275264, 'paperCount': 5, 'citationCount': 19, 'pi': True, 'role': 'Principal Investigator'} {'norm': 'bruce a draper', 'id': 736409185, 'paperCount': 168, 'citationCount': 4898, 'pi': True, 'role': 'Co-Principal Investigator'}\n",
      "{'norm': 'richard t snodgrass', 'id': 699078101, 'paperCount': 300, 'citationCount': 9227, 'pi': True, 'role': 'Principal Investigator'} {'norm': 'christian s collberg', 'id': 321147201, 'paperCount': 88, 'citationCount': 4482, 'pi': True, 'role': 'Co-Principal Investigator'}\n",
      "{'norm': 'elizabeth sweedyk', 'id': 78798562, 'paperCount': 15, 'citationCount': 206, 'pi': True, 'role': 'Principal Investigator'} {'norm': 'tinne de laet', 'id': 137628515, 'paperCount': 75, 'citationCount': 437, 'pi': True, 'role': 'Co-Principal Investigator'}\n",
      "{'norm': 'susanne e hambrusch', 'id': 2133492747, 'paperCount': 112, 'citationCount': 2190, 'pi': True, 'role': 'Principal Investigator'} {'norm': 'hubert e dunsmore', 'id': 2475027859, 'paperCount': 29, 'citationCount': 1425, 'pi': True, 'role': 'Former Principal Investigator'}\n",
      "{'norm': 'richard m stern', 'id': 2142750716, 'paperCount': 236, 'citationCount': 5601, 'pi': True, 'role': 'Principal Investigator'} {'norm': 'rita singh', 'id': 2123176178, 'paperCount': 92, 'citationCount': 1283, 'pi': True, 'role': 'Co-Principal Investigator'}\n",
      "{'norm': 'peter brusilovsky', 'id': 2032738043, 'paperCount': 441, 'citationCount': 16750, 'pi': True, 'role': 'Principal Investigator'} {'norm': 'michael spring', 'id': 2695024237, 'paperCount': 9, 'citationCount': 123, 'pi': True, 'role': 'Co-Principal Investigator'}\n",
      "{'norm': 'hanswerner braun', 'id': 2111193720, 'paperCount': 44, 'citationCount': 1288, 'pi': True, 'role': 'Principal Investigator'} {'norm': 'frank vernon', 'id': 1980084421, 'paperCount': 2, 'citationCount': 0, 'pi': True, 'role': 'Co-Principal Investigator'}\n",
      "{'norm': 'achilleas anastasopoulos', 'id': 2152927477, 'paperCount': 109, 'citationCount': 1326, 'pi': True, 'role': 'Co-Principal Investigator'} {'norm': 'p r sadanandarao', 'id': 2554248918, 'paperCount': 1, 'citationCount': 11, 'pi': True, 'role': 'Principal Investigator'}\n",
      "{'norm': 'david lazer', 'id': 2082712981, 'paperCount': 167, 'citationCount': 7866, 'pi': True, 'role': 'Principal Investigator'} {'norm': 'jane e fountain', 'id': 2147794272, 'paperCount': 57, 'citationCount': 1680, 'pi': True, 'role': 'Co-Principal Investigator'}\n",
      "{'norm': 'james moore', 'id': 2656271521, 'paperCount': 6, 'citationCount': 58, 'pi': True, 'role': 'Co-Principal Investigator'} {'norm': 'warren hunt', 'id': 2198328191, 'paperCount': 15, 'citationCount': 92, 'pi': True, 'role': 'Principal Investigator'}\n",
      "{'norm': 'frank mueller', 'id': 2107119837, 'paperCount': 274, 'citationCount': 6643, 'pi': True, 'role': 'Principal Investigator'} {'norm': 'j bernholc', 'id': 2778348566, 'paperCount': 337, 'citationCount': 10020, 'pi': True, 'role': 'Co-Principal Investigator'}\n",
      "{'norm': 'rajeev balasubramonian', 'id': 259853728, 'paperCount': 99, 'citationCount': 4483, 'pi': True, 'role': 'Principal Investigator'} {'norm': 'alan davis', 'id': 2168682495, 'paperCount': 89, 'citationCount': 2631, 'pi': True, 'role': 'Co-Principal Investigator'}\n",
      "{'norm': 'ting yu', 'id': 2696776555, 'paperCount': 99, 'citationCount': 3222, 'pi': True, 'role': 'Co-Principal Investigator'} {'norm': 'ana anton', 'id': 2485881151, 'paperCount': 2, 'citationCount': 0, 'pi': True, 'role': 'Principal Investigator'}\n",
      "{'norm': 'jelena mirkovic', 'id': 2112189347, 'paperCount': 79, 'citationCount': 3148, 'pi': True, 'role': 'Former Principal Investigator'} {'norm': 'b david saunders', 'id': 2167786665, 'paperCount': 52, 'citationCount': 735, 'pi': True, 'role': 'Principal Investigator'}\n",
      "{'norm': 'roy a maxion', 'id': 51313889, 'paperCount': 74, 'citationCount': 2245, 'pi': True, 'role': 'Principal Investigator'} {'norm': 'daniel p siewiorek', 'id': 2233600992, 'paperCount': 348, 'citationCount': 8215, 'pi': True, 'role': 'Co-Principal Investigator'}\n",
      "{'norm': 'naofal aldhahir', 'id': 2072665702, 'paperCount': 421, 'citationCount': 6975, 'pi': True, 'role': 'Principal Investigator'} {'norm': 'aria nosratinia', 'id': 217062092, 'paperCount': 231, 'citationCount': 8723, 'pi': True, 'role': 'Co-Principal Investigator'}\n",
      "{'norm': 'howard schultz', 'id': 2153855302, 'paperCount': 51, 'citationCount': 819, 'pi': True, 'role': 'Principal Investigator'} {'norm': 'allen hanson', 'id': 2096100525, 'paperCount': 4, 'citationCount': 23, 'pi': True, 'role': 'Co-Principal Investigator'}\n",
      "{'norm': 'randal c burns', 'id': 2114772878, 'paperCount': 181, 'citationCount': 6164, 'pi': True, 'role': 'Principal Investigator'} {'norm': 'aniruddha r thakar', 'id': 1704652524, 'paperCount': 92, 'citationCount': 17683, 'pi': True, 'role': 'Co-Principal Investigator'}\n",
      "{'norm': 'srinivas aluru', 'id': 672311968, 'paperCount': 244, 'citationCount': 5552, 'pi': True, 'role': 'Principal Investigator'} {'norm': 'patrick s schnable', 'id': 244774059, 'paperCount': 236, 'citationCount': 13880, 'pi': True, 'role': 'Co-Principal Investigator'}\n",
      "0430892 None\n",
      "{'norm': 'walter a illman', 'id': 2658297294, 'paperCount': 120, 'citationCount': 2213, 'pi': True, 'role': 'Principal Investigator'} {'norm': 'anton kruger', 'id': 2103843646, 'paperCount': 89, 'citationCount': 2400, 'pi': True, 'role': 'Co-Principal Investigator'}\n",
      "{'norm': 'konstantin k likharev', 'id': 74045100, 'paperCount': 253, 'citationCount': 9591, 'pi': True, 'role': 'Principal Investigator'} {'norm': 'john sherman', 'id': 2169025226, 'paperCount': 33, 'citationCount': 1352, 'pi': True, 'role': 'Co-Principal Investigator'}\n",
      "{'norm': 'leonard j mueller', 'id': 2044901192, 'paperCount': 66, 'citationCount': 1832, 'pi': True, 'role': 'Principal Investigator'} {'norm': 'roosevelt thedford', 'id': 2318334352, 'paperCount': 9, 'citationCount': 238, 'pi': True, 'role': 'Co-Principal Investigator'}\n",
      "{'norm': 'hsinchun chen', 'id': 2743732373, 'paperCount': 1, 'citationCount': 0, 'pi': True, 'role': 'Principal Investigator'} {'norm': 'daniel zeng', 'id': 2118201721, 'paperCount': 196, 'citationCount': 2114, 'pi': True, 'role': 'Co-Principal Investigator'}\n",
      "{'norm': 'jie wu', 'id': 2103022394, 'paperCount': 1025, 'citationCount': 21880, 'pi': True, 'role': 'Principal Investigator'} {'norm': 'eduardo fernandez fernandez', 'id': 2724317330, 'paperCount': 1, 'citationCount': 1, 'pi': True, 'role': 'Former Principal Investigator'}\n",
      "{'norm': 'injong rhee', 'id': 2152642861, 'paperCount': 128, 'citationCount': 8546, 'pi': True, 'role': 'Principal Investigator'} {'norm': 'robert j fornaro', 'id': 2074788759, 'paperCount': 11, 'citationCount': 65, 'pi': True, 'role': 'Co-Principal Investigator'}\n",
      "{'norm': 'rongqing hui', 'id': 2776558935, 'paperCount': 1, 'citationCount': 3, 'pi': True, 'role': 'Principal Investigator'} {'norm': 'victor frost', 'id': 2665827472, 'paperCount': 1, 'citationCount': 0, 'pi': True, 'role': 'Former Principal Investigator'}\n",
      "{'norm': 'aria nosratinia', 'id': 217062092, 'paperCount': 231, 'citationCount': 8723, 'pi': True, 'role': 'Principal Investigator'} {'norm': 'andrea fumagalli', 'id': 2007587847, 'paperCount': 248, 'citationCount': 2327, 'pi': True, 'role': 'Co-Principal Investigator'}\n",
      "{'norm': 'raju pandey', 'id': 2293893369, 'paperCount': 56, 'citationCount': 1091, 'pi': True, 'role': 'Principal Investigator'} {'norm': 'venkatesh akella', 'id': 2064243936, 'paperCount': 126, 'citationCount': 1528, 'pi': True, 'role': 'Co-Principal Investigator'}\n",
      "{'norm': 'barbara lust', 'id': 341536194, 'paperCount': 111, 'citationCount': 1270, 'pi': True, 'role': 'Co-Principal Investigator'} {'norm': 'janet mccue', 'id': 2145236249, 'paperCount': 8, 'citationCount': 21, 'pi': True, 'role': 'Principal Investigator'}\n",
      "{'norm': 'michael dahlin', 'id': 2051666199, 'paperCount': 130, 'citationCount': 7344, 'pi': True, 'role': 'Principal Investigator'} {'norm': 'harrick m vin', 'id': 2020627909, 'paperCount': 141, 'citationCount': 5120, 'pi': True, 'role': 'Co-Principal Investigator'}\n",
      "{'norm': 'olin shivers', 'id': 2114688855, 'paperCount': 65, 'citationCount': 1619, 'pi': True, 'role': 'Principal Investigator'} {'norm': 'panagiotis manolios', 'id': 233669859, 'paperCount': 106, 'citationCount': 2086, 'pi': True, 'role': 'Co-Principal Investigator'}\n",
      "{'norm': 'jeffrey c carver', 'id': 2145050651, 'paperCount': 192, 'citationCount': 2693, 'pi': True, 'role': 'Former Principal Investigator'} {'norm': 'julia e hodges', 'id': 2144428752, 'paperCount': 47, 'citationCount': 270, 'pi': True, 'role': 'Principal Investigator'}\n",
      "{'norm': 'mung chiang', 'id': 2143724125, 'paperCount': 391, 'citationCount': 14643, 'pi': True, 'role': 'Principal Investigator'} {'norm': 'arthur r calderbank', 'id': 2563268936, 'paperCount': 4, 'citationCount': 60, 'pi': True, 'role': 'Co-Principal Investigator'}\n",
      "0443162 None\n",
      "{'norm': 'guyalain amoussou', 'id': 1926831113, 'paperCount': 19, 'citationCount': 51, 'pi': True, 'role': 'Principal Investigator'} {'norm': 'roland h lamberson', 'id': 623069352, 'paperCount': 37, 'citationCount': 1277, 'pi': True, 'role': 'Co-Principal Investigator'}\n",
      "{'norm': 'dean f hougen', 'id': 2212436358, 'paperCount': 79, 'citationCount': 897, 'pi': True, 'role': 'Co-Principal Investigator'} {'norm': 'andrew h fagg', 'id': 709094649, 'paperCount': 98, 'citationCount': 2837, 'pi': True, 'role': 'Principal Investigator'}\n",
      "{'norm': 'nancy ide', 'id': 690115864, 'paperCount': 163, 'citationCount': 3626, 'pi': True, 'role': 'Principal Investigator'} {'norm': 'randi reppen', 'id': 595332192, 'paperCount': 68, 'citationCount': 1660, 'pi': True, 'role': 'Co-Principal Investigator'}\n",
      "{'norm': 'terry benzel', 'id': 1896760054, 'paperCount': 47, 'citationCount': 497, 'pi': True, 'role': 'Co-Principal Investigator'} {'norm': 'b clifford neuman', 'id': 2272544560, 'paperCount': 23, 'citationCount': 905, 'pi': True, 'role': 'Principal Investigator'}\n",
      "{'norm': 'dan suciu', 'id': 1986159374, 'paperCount': 375, 'citationCount': 18552, 'pi': True, 'role': 'Principal Investigator'} {'norm': 'alon y halevy', 'id': 2154833104, 'paperCount': 215, 'citationCount': 18958, 'pi': True, 'role': 'Former Co-Principal Investigator'}\n",
      "{'norm': 'michael l nelson', 'id': 2124413495, 'paperCount': 276, 'citationCount': 2599, 'pi': True, 'role': 'Principal Investigator'} {'norm': 'johan bollen', 'id': 2097966160, 'paperCount': 112, 'citationCount': 5757, 'pi': True, 'role': 'Co-Principal Investigator'}\n"
     ]
    }
   ],
   "source": [
    "dict_grant = dict()\n",
    "for grant_id in only_one_pi:\n",
    "    award,_,ts,te,G_all = core.coworknet.get_grant_coworknet_pis(grant_id)\n",
    "    pinfo = {}\n",
    "    for inv in award[\"investigators\"]:\n",
    "        if inv[\"candidates\"]:\n",
    "            for inv_c in inv[\"candidates\"]:\n",
    "                pinfo[inv_c[0]] = inv[\"role\"]\n",
    "        else:\n",
    "            pinfo[inv[\"authorId\"]] = inv[\"role\"]\n",
    "#     print(\"***\", pinfo)\n",
    "    pis = [a for a in G_all.nodes() if \"pi\" in G_all.nodes[a] and G_all.nodes[a][\"pi\"]]\n",
    "#     print(\"PIs\", G_all.nodes.data())\n",
    "#     print(grant_id)\n",
    "    working_pi = None\n",
    "    for u,v,data in G_all.edges.data():\n",
    "        if u in pis:\n",
    "            working_pi = u\n",
    "\n",
    "    try:\n",
    "        non_working_pi = pis[1] if working_pi == pis[0] else pis[0]\n",
    "\n",
    "        d_working_pi = G_all.nodes()[working_pi]\n",
    "        d_working_pi[\"role\"] = pinfo[d_working_pi[\"id\"]]\n",
    "        d_non_working_pi = G_all.nodes()[non_working_pi]\n",
    "        d_non_working_pi[\"role\"] = pinfo[d_non_working_pi[\"id\"]]\n",
    "\n",
    "        print(d_working_pi, d_non_working_pi)\n",
    "        dict_grant[grant_id] = {\n",
    "            \"working_pi\": d_working_pi,\n",
    "            \"non_working_pi\": d_non_working_pi\n",
    "        }\n",
    "    except Exception as e:\n",
    "        print(grant_id, e)"
   ]
  },
  {
   "cell_type": "code",
   "execution_count": 9,
   "metadata": {},
   "outputs": [
    {
     "data": {
      "text/plain": [
       "Counter({'Principal Investigator': 34,\n",
       "         'Co-Principal Investigator': 7,\n",
       "         'Former Principal Investigator': 3})"
      ]
     },
     "execution_count": 9,
     "metadata": {},
     "output_type": "execute_result"
    }
   ],
   "source": [
    "Counter([p[\"working_pi\"][\"role\"] for p in dict_grant.values()])"
   ]
  },
  {
   "cell_type": "code",
   "execution_count": 10,
   "metadata": {},
   "outputs": [
    {
     "data": {
      "text/plain": [
       "Counter({'Co-Principal Investigator': 30,\n",
       "         'Principal Investigator': 10,\n",
       "         'Former Principal Investigator': 3,\n",
       "         'Former Co-Principal Investigator': 1})"
      ]
     },
     "execution_count": 10,
     "metadata": {},
     "output_type": "execute_result"
    }
   ],
   "source": [
    "Counter([p[\"non_working_pi\"][\"role\"] for p in dict_grant.values()])"
   ]
  },
  {
   "cell_type": "code",
   "execution_count": 11,
   "metadata": {},
   "outputs": [
    {
     "data": {
      "image/png": "[encoded data removed]",
      "text/plain": [
       "<Figure size 432x576 with 1 Axes>"
      ]
     },
     "metadata": {
      "needs_background": "light"
     },
     "output_type": "display_data"
    }
   ],
   "source": [
    "pi_type = [\"working_pi\", \"non_working_pi\"]\n",
    "box_plot_data = pd.DataFrame({\n",
    "    \"publication\": [gv[pt][\"paperCount\"] for pt in pi_type for gid, gv in dict_grant.items()],\n",
    "    \"citation\": [gv[pt][\"citationCount\"] for pt in pi_type for gid, gv in dict_grant.items()],\n",
    "    \"pitype\": [pt for pt in pi_type for gid, gv in dict_grant.items()]\n",
    "})\n",
    "        \n",
    "# print(box_plot_data.head(5))\n",
    "plt.figure(figsize=(6,8))\n",
    "ax = sns.boxplot(x=\"pitype\", y=\"publication\", data=box_plot_data, showmeans=True).set_title(\"Number of publications\")\n"
   ]
  },
  {
   "cell_type": "code",
   "execution_count": 12,
   "metadata": {},
   "outputs": [
    {
     "data": {
      "image/png": "[encoded data removed]",
      "text/plain": [
       "<Figure size 432x576 with 1 Axes>"
      ]
     },
     "metadata": {
      "needs_background": "light"
     },
     "output_type": "display_data"
    }
   ],
   "source": [
    "plt.figure(figsize=(6,8))\n",
    "ax = sns.boxplot(x=\"pitype\", y=\"citation\", data=box_plot_data, showmeans=True).set_title(\"Number of citations\")"
   ]
  },
  {
   "cell_type": "code",
   "execution_count": 13,
   "metadata": {},
   "outputs": [
    {
     "data": {
      "image/png": "[encoded data removed]",
      "text/plain": [
       "<Figure size 432x576 with 1 Axes>"
      ]
     },
     "metadata": {
      "needs_background": "light"
     },
     "output_type": "display_data"
    }
   ],
   "source": [
    "box_plot_data[\"average_citation\"] = (box_plot_data[\"citation\"]/box_plot_data[\"publication\"]).fillna(0)\n",
    "plt.figure(figsize=(6,8))\n",
    "ax = sns.boxplot(x=\"pitype\", y=\"average_citation\", data=box_plot_data, showmeans=True).set_title(\"Average number of citations\")\n"
   ]
  },
  {
   "cell_type": "code",
   "execution_count": 14,
   "metadata": {},
   "outputs": [
    {
     "name": "stdout",
     "output_type": "stream",
     "text": [
      "[2009]\n",
      "Total number of grants 14758\n",
      "Division of Computer and Network Systems (CNS) 733\n",
      "Division of Computing and Communication Foundations (CCF) 535\n",
      "Division of Information and Intelligent Systems (IIS) 627\n",
      "Office of Advanced Cyberinfrastructure (OAC) 193\n"
     ]
    }
   ],
   "source": [
    "data = {}\n",
    "years = [2009]\n",
    "for y in years:\n",
    "    data.update(core.nsf_utils.load_numpub_data(y))\n",
    "data = {k:v for k, v in data.items() if v[\"type\"] in grant_type}\n",
    "for y in years:\n",
    "    print(\"[{}]\".format(y))\n",
    "    print(\"Total number of grants\", len([v for v in data.values() if v[\"year\"] == y]))\n",
    "    for code, desc in div_type.items():\n",
    "        print(desc, len([v for v in data.values() if v[\"org\"][:4] == code and v[\"year\"] == y]))"
   ]
  },
  {
   "cell_type": "code",
   "execution_count": 15,
   "metadata": {},
   "outputs": [
    {
     "name": "stdout",
     "output_type": "stream",
     "text": [
      "457 grants with 2 PIs\n"
     ]
    }
   ],
   "source": [
    "grant_list = [k for k, d in data.items() if d[\"org\"][:4] in div_type.keys() and d[\"num_pis\"] == 2]\n",
    "print(len(grant_list), \"grants with 2 PIs\")"
   ]
  },
  {
   "cell_type": "code",
   "execution_count": 16,
   "metadata": {},
   "outputs": [
    {
     "name": "stdout",
     "output_type": "stream",
     "text": [
      "44 (9.63%) grants have no publication\n",
      "87 (19.04%) grants have only one working PI\n",
      "47 (10.28%) grants have two PIs working separately\n",
      "253 (55.36%) grants have two PIs collaborated\n",
      "26 (5.69%) grants are unknown\n"
     ]
    }
   ],
   "source": [
    "no_publications = []\n",
    "no_edges = []\n",
    "other = []\n",
    "only_one_pi = []\n",
    "two_separate = []\n",
    "two_cowork = []\n",
    "for pid in grant_list:\n",
    "    award, table, ts, te, G_all = core.coworknet.get_grant_coworknet_pis(pid)\n",
    "    if len(table) == 0:\n",
    "        no_publications.append(pid)\n",
    "        continue\n",
    "    pis = [a for a in G_all.nodes() if \"pi\" in G_all.nodes[a] and G_all.nodes[a] [\"pi\"]]\n",
    "    G = G_all.subgraph(pis)\n",
    "        \n",
    "    working_pis = []\n",
    "    reported_pub_number = 0\n",
    "    for k, v in table.items():\n",
    "        if v[\"type\"]: # only count publicatoins in-grant\n",
    "            reported_pub_number += 1\n",
    "            working_pis.append([a for a, av in v[\"authors\"].items() if av[\"pi\"]])\n",
    "    # print(pid, working_pis)\n",
    "    pi_counter = [set([n[0]+n.split(\" \")[-1] for n in group]) for group in working_pis]\n",
    "    pi_union = set.union(*pi_counter)\n",
    "    pi_max_group = max([len(pg) for pg in pi_counter])\n",
    "#     print(pi_counter, pi_union, pi_max_group)\n",
    "#     print(\"{} union={}, max_group={}, numpub={} {} {}\".format(pid, len(pi_union), pi_max_group, reported_pub_number, len(table), len(G.edges)))\n",
    "    if len(pi_union) == 2 and pi_max_group == 2:\n",
    "        two_cowork.append(pid)\n",
    "    elif len(pi_union) == 2:\n",
    "        two_separate.append(pid)\n",
    "    elif len(pi_union) == 1:\n",
    "        only_one_pi.append(pid)\n",
    "    else:\n",
    "        other.append(pid)\n",
    "print(\"{} ({:.2f}%) grants have no publication\".format(len(no_publications), 100*len(no_publications)/len(grant_list)))\n",
    "print(\"{} ({:.2f}%) grants have only one working PI\".format(len(only_one_pi), 100*len(only_one_pi)/len(grant_list)))\n",
    "print(\"{} ({:.2f}%) grants have two PIs working separately\".format(len(two_separate), 100*len(two_separate)/len(grant_list)))\n",
    "print(\"{} ({:.2f}%) grants have two PIs collaborated\".format(len(two_cowork), 100*len(two_cowork)/len(grant_list)))\n",
    "print(\"{} ({:.2f}%) grants are unknown\".format(len(other), 100*len(other)/len(grant_list)))"
   ]
  },
  {
   "cell_type": "code",
   "execution_count": 17,
   "metadata": {},
   "outputs": [
    {
     "name": "stdout",
     "output_type": "stream",
     "text": [
      "Karam S. Chatha ,  Goran Konjevod\n",
      "Chris Hill ,  Patrick Heimbach\n",
      "P. Sadayappan ,  Sriram Krishnamoorthy\n",
      "Roger Ghanem ,  Dongxiao Zhang\n",
      "Jack J. Dongarra ,  Sadaf R. Alam\n",
      "Anshu Dubey ,  Dong-Wook Lee\n",
      "Shuchi Chawla ,  Srinivasa Aditya Akella\n",
      "Holly Y. Yanco ,  Holly A. Yanco\n",
      "Martin C. Rinard ,  Vijay Ganesh\n",
      "Xiaohua Tony Hu ,  Aleister J. Saunders\n",
      "Xindong Wu ,  Marc S. Greenblatt\n",
      "Yuan Xie ,  Raj S. Acharya\n",
      "Ramesh Govindan ,  Sun Young Cho\n",
      "Arun Venkataramani ,  Gerome Miklau\n",
      "Santosh Kumar ,  J. Gayle Beck\n",
      "Martha Palmer ,  James Martin\n",
      "Deniz Erdogmus ,  Rupal Patel\n",
      "Marcelo Kallmann ,  Teenie Matlock\n",
      "Robin Sommer ,  Nicholas Weaver\n",
      "Ziliang Zong ,  Manuel Penaloza\n",
      "Kristen LeFevre ,  Jagadish Jagadish\n",
      "Subir Biswas ,  Edward J. Rothwell\n",
      "Elizabeth D. Mynatt ,  Mark L. Braunstein\n",
      "Aniruddha S. Gokhale ,  Christopher J. White\n",
      "Chris Winstead ,  Charles Miller\n",
      "Tevfik Bultan ,  Christopher Kruegel\n",
      "Lynne Edwards ,  April Edwards (Kontostathis)\n",
      "Vladimir Vapnik ,  David L. Waltz\n",
      "Petros Drineas ,  Sanmay Das\n",
      "Li Zhang ,  Charles Dyer\n",
      "Aram Galstyan ,  Herbert Schorr\n",
      "Erik G. Learned-Miller ,  Andrew McCallum\n",
      "Athina P. Petropulu ,  Youngmoo E. Kim\n",
      "Gregory R. Ganger ,  Cranor\n",
      "Samrat Bhattacharjee ,  Neil Spring\n",
      "Robert A. van de Geijn ,  Victor Eijkhout\n",
      "Amin Vahdat ,  Geoffrey M. Voelker\n",
      "Elsa L. Gunter ,  Carl Gunter\n",
      "Kartik Mohanram ,  Peter J. Varman\n",
      "V. N. Venkatakrishnan ,  Madhusudan Parthasarathy\n",
      "Karthikeyan Sankaralingam ,  Mary Vernon\n",
      "Quoc-Nam Tran ,  Andreev Valentin M\n",
      "David Wetherall ,  James A. Landay\n",
      "Eelke Folmer ,  George Bebis\n",
      "Yannis Papakonstantinou ,  Alin Deutsch\n",
      "Ashish Tiwari ,  Bruno Dutertre\n",
      "Howard Jay Siegel ,  Patrick Burns\n",
      "Sumit Roy ,  Sally Floyd\n",
      "Karl W. Schulz ,  William Barth\n",
      "Tevfik Kosar ,  Joel E. Tohline\n",
      "Fumin Zhang ,  Marilyn Wolf\n",
      "Prabir Barooah ,  Alberto Speranzon\n",
      "Kostas E. Bekris ,  George Bebis\n",
      "Patricia A. Kovatch ,  T. Thomas Zacharia\n",
      "Xiaosong Ma ,  Scott Klasky\n",
      "Vasile Rus ,  Arthur C. Graesser\n",
      "Edwina L. Rissland ,  Victor R. Lesser\n",
      "Animesh Ray ,  Ali Nadim\n",
      "John E. Taylor ,  Debra A. Noumair\n",
      "Jim Blythe ,  Herbert Schorr\n",
      "Hans-Werner Braun ,  Frank Vernon\n",
      "Ron Eglash ,  Nathan G. Freier\n",
      "Charles C. Weems ,  J. Eliot B. Moss\n",
      "Joshua D. Guttman ,  Daniel Dougherty\n",
      "Heng Xu ,  Peng Peng Liu\n",
      "Le Gruenwald ,  Sudarshan K. Dhall\n",
      "Haesun Park ,  Barry L. Drake\n",
      "None ,  James F. Allen\n",
      "Error: 0958193 None\n",
      "pinfo: {2235393145: 'Principal Investigator', 7122111: 'Co-Principal Investigator'}\n",
      "pis: ['James F. Allen', 'Lucian Galescu']\n",
      "Xiaoyan Xu ,  Xiaoyin Xu\n",
      "Mona T. Diab ,  Julia Hirschberg\n",
      "David Gallaher ,  Mark C. Serreze\n",
      "Robert Wilson ,  Yoav Shoham\n",
      "Stefan Savage ,  Ingolf Krueger\n",
      "Zhenyu Li ,  Axel Scherer\n",
      "Jignesh M. Patel ,  Miron Livny\n",
      "Philip N. Klein ,  Claire Kenyon-Mathieu\n",
      "Dmitri V. Krioukov ,  kc claffy\n",
      "David D. Cox ,  James J. DiCarlo\n",
      "Paul Waddell ,  Michael Jordan\n",
      "Anupam Gupta ,  David G. Andersen\n",
      "Jon A. Solworth ,  Daniel Bernstein\n",
      "Error: 0964592 list index out of range\n",
      "pinfo: {823350975: 'Principal Investigator'}\n",
      "pis: ['Benjamin Babjak, Akos Ledeczi, Peter Volgyesi']\n",
      "Kevin Crowston ,  Wang Jun\n",
      "Robert E. Kraut ,  Carolyn Rose\n",
      "Tom M. Mitchell ,  Luis von Ahn\n",
      "Eyal Amir ,  Dorothy L. Espelage\n",
      "Lew Lancaster ,  Michael K. Buckland\n"
     ]
    }
   ],
   "source": [
    "dict_grant = dict()\n",
    "for grant_id in only_one_pi:\n",
    "    award,_,ts,te,G_all = core.coworknet.get_grant_coworknet_pis(grant_id)\n",
    "    pinfo = {}\n",
    "    for inv in award[\"investigators\"]:\n",
    "        if inv[\"candidates\"]:\n",
    "            for inv_c in inv[\"candidates\"]:\n",
    "                pinfo[inv_c[0]] = inv[\"role\"]\n",
    "        else:\n",
    "            pinfo[inv[\"authorId\"]] = inv[\"role\"]\n",
    "#     print(\"***\", pinfo)\n",
    "    pis = [a for a in G_all.nodes() if \"pi\" in G_all.nodes[a] and G_all.nodes[a][\"pi\"]]\n",
    "#     print(grant_id, \"PIs\", pis)\n",
    "#     print(grant_id)\n",
    "    working_pi = None\n",
    "    for u,v,data in G_all.edges.data():\n",
    "        if u in pis:\n",
    "            working_pi = u\n",
    "\n",
    "    try:\n",
    "        non_working_pi = pis[1] if working_pi == pis[0] else pis[0]\n",
    "        print(working_pi, \", \", non_working_pi)\n",
    "        d_working_pi = G_all.nodes()[working_pi]\n",
    "        d_working_pi[\"role\"] = pinfo[d_working_pi[\"id\"]]\n",
    "        d_non_working_pi = G_all.nodes()[non_working_pi]\n",
    "        d_non_working_pi[\"role\"] = pinfo[d_non_working_pi[\"id\"]]\n",
    "\n",
    "    #     print(d_working_pi, d_non_working_pi)\n",
    "        dict_grant[grant_id] = {\n",
    "            \"working_pi\": d_working_pi,\n",
    "            \"non_working_pi\": d_non_working_pi\n",
    "        }\n",
    "        \n",
    "    except Exception as e:\n",
    "        print(\"Error:\", grant_id, e)\n",
    "        print(\"pinfo:\", pinfo)\n",
    "        print(\"pis:\", pis)"
   ]
  },
  {
   "cell_type": "code",
   "execution_count": 18,
   "metadata": {},
   "outputs": [
    {
     "data": {
      "text/plain": [
       "Counter({'Principal Investigator': 62,\n",
       "         'Former Principal Investigator': 10,\n",
       "         'Co-Principal Investigator': 13})"
      ]
     },
     "execution_count": 18,
     "metadata": {},
     "output_type": "execute_result"
    }
   ],
   "source": [
    "Counter([p[\"working_pi\"][\"role\"] for p in dict_grant.values()])"
   ]
  },
  {
   "cell_type": "code",
   "execution_count": 19,
   "metadata": {},
   "outputs": [
    {
     "data": {
      "text/plain": [
       "Counter({'Co-Principal Investigator': 55,\n",
       "         'Principal Investigator': 25,\n",
       "         'Former Principal Investigator': 4,\n",
       "         'Former Co-Principal Investigator': 1})"
      ]
     },
     "execution_count": 19,
     "metadata": {},
     "output_type": "execute_result"
    }
   ],
   "source": [
    "Counter([p[\"non_working_pi\"][\"role\"] for p in dict_grant.values()])"
   ]
  },
  {
   "cell_type": "code",
   "execution_count": 20,
   "metadata": {},
   "outputs": [
    {
     "data": {
      "image/png": "[encoded data removed]",
      "text/plain": [
       "<Figure size 432x576 with 1 Axes>"
      ]
     },
     "metadata": {
      "needs_background": "light"
     },
     "output_type": "display_data"
    }
   ],
   "source": [
    "pi_type = [\"working_pi\", \"non_working_pi\"]\n",
    "box_plot_data = pd.DataFrame({\n",
    "    \"publication\": [gv[pt][\"paperCount\"] for pt in pi_type for gid, gv in dict_grant.items()],\n",
    "    \"citation\": [gv[pt][\"citationCount\"] for pt in pi_type for gid, gv in dict_grant.items()],\n",
    "    \"pitype\": [pt for pt in pi_type for gid, gv in dict_grant.items()]\n",
    "})\n",
    "        \n",
    "# print(box_plot_data.head(5))\n",
    "plt.figure(figsize=(6,8))\n",
    "ax = sns.boxplot(x=\"pitype\", y=\"publication\", data=box_plot_data, showmeans=True).set_title(\"Number of publications\")\n"
   ]
  },
  {
   "cell_type": "code",
   "execution_count": 21,
   "metadata": {},
   "outputs": [
    {
     "data": {
      "image/png": "[encoded data removed]",
      "text/plain": [
       "<Figure size 432x576 with 1 Axes>"
      ]
     },
     "metadata": {
      "needs_background": "light"
     },
     "output_type": "display_data"
    }
   ],
   "source": [
    "plt.figure(figsize=(6,8))\n",
    "ax = sns.boxplot(x=\"pitype\", y=\"citation\", data=box_plot_data, showmeans=True).set_title(\"Number of citations\")"
   ]
  },
  {
   "cell_type": "code",
   "execution_count": 22,
   "metadata": {},
   "outputs": [
    {
     "data": {
      "image/png": "[encoded data removed]",
      "text/plain": [
       "<Figure size 432x576 with 1 Axes>"
      ]
     },
     "metadata": {
      "needs_background": "light"
     },
     "output_type": "display_data"
    }
   ],
   "source": [
    "box_plot_data[\"average_citation\"] = (box_plot_data[\"citation\"]/box_plot_data[\"publication\"]).fillna(0)\n",
    "plt.figure(figsize=(6,8))\n",
    "ax = sns.boxplot(x=\"pitype\", y=\"average_citation\", data=box_plot_data, showmeans=True).set_title(\"Average number of citations\")\n"
   ]
  },
  {
   "cell_type": "code",
   "execution_count": null,
   "metadata": {},
   "outputs": [],
   "source": []
  }
 ],
 "metadata": {
  "kernelspec": {
   "display_name": "moneymatters",
   "language": "python",
   "name": "mm"
  },
  "language_info": {
   "codemirror_mode": {
    "name": "ipython",
    "version": 3
   },
   "file_extension": ".py",
   "mimetype": "text/x-python",
   "name": "python",
   "nbconvert_exporter": "python",
   "pygments_lexer": "ipython3",
   "version": "3.7.3"
  }
 },
 "nbformat": 4,
 "nbformat_minor": 2
}
